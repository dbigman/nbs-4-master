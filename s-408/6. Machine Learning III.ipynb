{
 "cells": [
  {
   "cell_type": "markdown",
   "metadata": {},
   "source": [
    "# Machine Learning II: Introduction to Supervised Classification Methods"
   ]
  },
  {
   "cell_type": "markdown",
   "metadata": {},
   "source": [
    "## intro image"
   ]
  },
  {
   "cell_type": "markdown",
   "metadata": {},
   "source": [
    "![image](https://miro.medium.com/v2/resize:fit:1400/1*GxoJmn7FPspmr1Gd-sDDyg.png)"
   ]
  },
  {
   "cell_type": "markdown",
   "metadata": {},
   "source": [
    "## Supervised Learning Concepts: Nearest Neighbors"
   ]
  },
  {
   "cell_type": "markdown",
   "metadata": {},
   "source": [
    "Nearest neighbors is a member of the instance based learning and lazy Learning families. Instance based models base the model on the evaluation of a function that depends on the point we are querying and training data. Nearest Neighbors is the **simplest** of these techniques. The rationale behind this model is as follows: Each training data set can be seen as a solved case/problem. Thus, given a new problem instance we may retrieve the most *similar* case in our data set and apply the same solution. In the case of classification, this means that we select the label of the most similar data example in our training set."
   ]
  },
  {
   "cell_type": "markdown",
   "metadata": {},
   "source": [
    "### Intro"
   ]
  },
  {
   "cell_type": "code",
   "execution_count": null,
   "metadata": {},
   "outputs": [],
   "source": [
    "import pandas as pd\n",
    "import numpy as np\n",
    "import matplotlib.pyplot as plt\n",
    "\n",
    "#Let's see what the boundary looks like in a toy problem.\n",
    "\n",
    "MAXN=100\n",
    "X = np.concatenate([1.25*np.random.randn(MAXN,2),5+1.5*np.random.randn(MAXN,2)]) \n",
    "X = np.concatenate([X,[8,5]+1.5*np.random.randn(MAXN,2)])\n",
    "y = np.concatenate([np.ones((MAXN,1)),-np.ones((MAXN,1))])\n",
    "y = np.concatenate([y,np.ones((MAXN,1))])\n",
    "idxplus = y==1\n",
    "idxminus = y==-1\n",
    "plt.scatter(X[idxplus.ravel(),0],X[idxplus.ravel(),1],color='r')\n",
    "plt.scatter(X[idxminus.ravel(),0],X[idxminus.ravel(),1],color='b')\n",
    "\n",
    "from sklearn import neighbors\n",
    "from sklearn import metrics\n",
    "\n",
    "delta = 0.05\n",
    "xx = np.arange(-5.0, 15.0, delta)\n",
    "yy = np.arange(-5.0, 15.0, delta)\n",
    "XX, YY = np.meshgrid(xx, yy)\n",
    "Xf = XX.flatten()\n",
    "Yf = YY.flatten()\n",
    "sz=XX.shape\n",
    "data = np.c_[Xf[:,np.newaxis],Yf[:,np.newaxis]];\n",
    "\n",
    "#Evaluate the model for a given weight\n",
    "clf = neighbors.KNeighborsClassifier(11)\n",
    "clf.fit(X,y.ravel())\n",
    "Z=clf.predict(data)\n",
    "Z.shape=sz\n",
    "\n",
    "plt.imshow(Z, interpolation='bilinear', origin='lower', extent=(-5,15,-5,15),alpha=0.3, vmin=-1, vmax=1)\n",
    "plt.contour(XX,YY,Z,[0])\n",
    "fig = plt.gcf()\n",
    "fig.set_size_inches(9,9)"
   ]
  },
  {
   "cell_type": "markdown",
   "metadata": {},
   "source": [
    "Observations:\n",
    "\n",
    "+ The boundary is piece-wise linear. It is composed of edges of the Voronoi diagram.\n",
    "+ Observe that the classifier perfectly fits the training data. Adding or removing one data point can largely change the boundary. This implies that the complexity of the method is large.\n",
    "+ The key component of the nearest neigbors classifier is the notion of similarity/distance."
   ]
  },
  {
   "cell_type": "markdown",
   "metadata": {},
   "source": [
    "Remember that regularization explicitly models complexity. Regularization is usually a penalty term. In nearest neighbors we can penalize solutions with small \"support\" by using a majority voting on the $k$ closests data samples to the query sample."
   ]
  },
  {
   "cell_type": "code",
   "execution_count": null,
   "metadata": {},
   "outputs": [],
   "source": [
    "#Let's see what the boundary looks like in a toy problem.\n",
    "\n",
    "plt.scatter(X[idxplus.ravel(),0],X[idxplus.ravel(),1],color='r')\n",
    "plt.scatter(X[idxminus.ravel(),0],X[idxminus.ravel(),1],color='b')\n",
    "\n",
    "clf = neighbors.KNeighborsClassifier(3)\n",
    "clf.fit(X,y.ravel())\n",
    "Z2=clf.predict(data)\n",
    "Z2.shape=sz\n",
    "\n",
    "plt.imshow(Z, interpolation='bilinear', origin='lower', extent=(-5,15,-5,15),alpha=0.4, vmin=-1, vmax=1)\n",
    "plt.imshow(Z2, interpolation='bilinear', origin='lower', extent=(-5,15,-5,15),alpha=0.2, vmin=-1, vmax=1)\n",
    "\n",
    "plt.contour(XX,YY,Z2,[0])\n",
    "fig = plt.gcf()\n",
    "fig.set_size_inches(9,9)"
   ]
  },
  {
   "cell_type": "markdown",
   "metadata": {},
   "source": [
    "### Confusion Matrix (churn classification with nearest neighbor)"
   ]
  },
  {
   "cell_type": "markdown",
   "metadata": {},
   "source": [
    "Lets analyse a problem of customer churn prediction. We may fit a 1-Nearest Neighbor classifier and check the result."
   ]
  },
  {
   "cell_type": "code",
   "execution_count": null,
   "metadata": {},
   "outputs": [],
   "source": [
    "## Prepare the data\n",
    "churn_df = pd.read_csv('churn.csv')\n",
    "col_names = churn_df.columns.tolist()\n",
    "\n",
    "# Isolate target data\n",
    "churn_result = churn_df['Churn?']\n",
    "y = np.where(churn_result == 'True.',1,0)\n",
    "\n",
    "# We don't need these columns\n",
    "to_drop = ['State','Phone','Churn?']\n",
    "churn_feat_space = churn_df.drop(to_drop,axis=1) #X\n",
    "\n",
    "# 'yes'/'no' has to be converted to boolean values\n",
    "# NumPy converts these from boolean to 1. and 0. later\n",
    "yes_no_cols = [\"Int'l Plan\",\"VMail Plan\"]\n",
    "churn_feat_space[yes_no_cols] = churn_feat_space[yes_no_cols] == 'yes'\n",
    "\n",
    "# Pull out features for future use\n",
    "features = churn_feat_space.columns\n",
    "\n",
    "X = churn_feat_space.values.astype(float)\n",
    "\n",
    "print (\"Feature space holds %d observations and %d features\" % X.shape)\n",
    "print (\"Unique target labels:\", np.unique(y))\n"
   ]
  },
  {
   "cell_type": "code",
   "execution_count": null,
   "metadata": {},
   "outputs": [],
   "source": [
    "from sklearn import model_selection\n",
    "from sklearn import neighbors\n",
    "from sklearn import metrics\n",
    "acc = np.zeros((5,))\n",
    "i=0\n",
    "kf=model_selection.KFold(n_splits=5)\n",
    "kf.get_n_splits()\n",
    "#We will build the predicted y from the partial predictions on the test of each of the folds\n",
    "yhat = y.copy()\n",
    "for train_index, test_index in kf.split(X):\n",
    "    X_train, X_test = X[train_index], X[test_index]\n",
    "    y_train, y_test = y[train_index], y[test_index]\n",
    "    dt = neighbors.KNeighborsClassifier(n_neighbors=1)\n",
    "    dt.fit(X_train,y_train)\n",
    "    yhat[test_index] = dt.predict(X_test)\n",
    "    acc[i] = metrics.accuracy_score(yhat[test_index], y_test)\n",
    "    i=i+1\n",
    "print ('Mean accuracy: '+ str(np.mean(acc)))\n",
    "X_train[0,:]"
   ]
  },
  {
   "cell_type": "code",
   "execution_count": null,
   "metadata": {},
   "outputs": [],
   "source": [
    "def draw_confusion(y,yhat,labels):\n",
    "    cm = metrics.confusion_matrix(y, yhat)\n",
    "    fig = plt.figure()\n",
    "    ax = fig.add_subplot(111)\n",
    "    ax.matshow(cm)\n",
    "    plt.title('Confusion matrix',size=20)\n",
    "    ax.set_xticklabels([''] + labels, size=20)\n",
    "    ax.set_yticklabels([''] + labels, size=20)\n",
    "    plt.ylabel('Predicted',size=20)\n",
    "    plt.xlabel('True',size=20)\n",
    "    for i in range(2):\n",
    "        for j in range(2):\n",
    "            ax.text(i, j, cm[i,j], va='center', ha='center',color='white',size=20)\n",
    "    fig.set_size_inches(7,7)\n",
    "    plt.show()\n",
    "\n",
    "draw_confusion(y,yhat,['no churn', 'churn'])\n",
    "print (metrics.classification_report(y,yhat))"
   ]
  },
  {
   "cell_type": "markdown",
   "metadata": {},
   "source": [
    "### Feature Engineering: Standardization"
   ]
  },
  {
   "cell_type": "markdown",
   "metadata": {},
   "source": [
    "This is quite a bad result. Remember that by always selecting class 'no churn' we should get around $85\\%$ of accuracy. As it was noticed before the definition of distance is critical. In NN we are using Euclidean distance. Distances assume that all variables operate at the same scale, i.e. all are commensurable. A change in one unit in one of the variables is equivalent to/as important as a change of 1 unit in the other. In this data set, this does not happen. For example, area codes values are around 400 while whether the customer enjoys an international plan take values 0 and 1. Thus, we may account for these changes by scaling the features. The most standard way of doing this is feature normalization or standarization. In this preprocessing technique each feature is scaled to have zero mean and unit standard deviation."
   ]
  },
  {
   "cell_type": "code",
   "execution_count": 6,
   "metadata": {},
   "outputs": [],
   "source": [
    "# Standarize\n",
    "from sklearn.preprocessing import StandardScaler\n",
    "scaler = StandardScaler()\n",
    "X = scaler.fit_transform(X)"
   ]
  },
  {
   "cell_type": "code",
   "execution_count": null,
   "metadata": {},
   "outputs": [],
   "source": [
    "## In machine learning and data analysis, \"snooping\" refers to a scenario where information from outside the training dataset is inadvertently used to make decisions about the model.\n",
    "\n",
    "from sklearn import metrics\n",
    "acc_snooping = np.zeros((5,))\n",
    "i=0\n",
    "kf=model_selection.KFold(n_splits=5, shuffle=False)\n",
    "kf.get_n_splits()\n",
    "#We will build the predicted y from the partial predictions on the test of each of the folds\n",
    "yhat = y.copy()\n",
    "for train_index, test_index in kf.split(X):\n",
    "    X_train, X_test = X[train_index], X[test_index]\n",
    "    y_train, y_test = y[train_index], y[test_index]\n",
    "    dt = neighbors.KNeighborsClassifier(1)\n",
    "    dt.fit(X_train,y_train)\n",
    "    yhat[test_index] = dt.predict(X_test)\n",
    "    acc_snooping[i] = metrics.accuracy_score(yhat[test_index], y_test)\n",
    "    i=i+1\n",
    "print ('Mean accuracy: '+ str(np.mean(acc_snooping)))\n"
   ]
  },
  {
   "cell_type": "markdown",
   "metadata": {},
   "source": [
    "**QUESTION:** In the former process we have accidentally snooped into the data and the result is contaminated. Where?</div>"
   ]
  },
  {
   "cell_type": "markdown",
   "metadata": {},
   "source": [
    "### Side Note: Data Snooping"
   ]
  },
  {
   "cell_type": "code",
   "execution_count": null,
   "metadata": {},
   "outputs": [],
   "source": [
    "#NO SNOOPING\n",
    "acc = np.zeros((5,))\n",
    "i=0\n",
    "#We will build the predicted y from the partial predictions on the test of each of the folds\n",
    "yhat = y.copy()\n",
    "for train_index, test_index in kf.split(X):\n",
    "    X_train, X_test = X[train_index], X[test_index]\n",
    "    y_train, y_test = y[train_index], y[test_index]\n",
    "    scaler = StandardScaler()\n",
    "    X_train = scaler.fit_transform(X_train)\n",
    "    dt = neighbors.KNeighborsClassifier(1)\n",
    "    dt.fit(X_train,y_train)\n",
    "    X_test = scaler.transform(X_test)\n",
    "    yhat[test_index] = dt.predict(X_test)\n",
    "    acc[i] = metrics.accuracy_score(yhat[test_index], y_test)\n",
    "    i=i+1\n",
    "print ('Mean accuracy: '+ str(np.mean(acc)))"
   ]
  },
  {
   "cell_type": "code",
   "execution_count": null,
   "metadata": {},
   "outputs": [],
   "source": [
    "acct=np.c_[acc_snooping,acc]\n",
    "plt.boxplot(acct);\n",
    "for i in range(2):\n",
    "    xderiv = (i+1)*np.ones(acct[:,i].shape)+(np.random.rand(5,)-0.5)*0.1\n",
    "    plt.plot(xderiv,acct[:,i],'ro',alpha=0.3)\n",
    "ax = plt.gca()\n",
    "ax.set_xticklabels(['snooping', 'no snooping'])"
   ]
  },
  {
   "cell_type": "code",
   "execution_count": null,
   "metadata": {},
   "outputs": [],
   "source": [
    "def draw_confusion(y,yhat,labels):\n",
    "    cm = metrics.confusion_matrix(y, yhat)\n",
    "    fig = plt.figure()\n",
    "    ax = fig.add_subplot(111)\n",
    "    ax.matshow(cm)\n",
    "    plt.title('Confusion matrix',size=20)\n",
    "    ax.set_xticklabels([''] + labels, size=20)\n",
    "    ax.set_yticklabels([''] + labels, size=20)\n",
    "    plt.ylabel('Predicted',size=20)\n",
    "    plt.xlabel('True',size=20)\n",
    "    for i in range(2):\n",
    "        for j in range(2):\n",
    "            ax.text(i, j, cm[i,j], va='center', ha='center',color='white',size=20)\n",
    "    fig.set_size_inches(7,7)\n",
    "    plt.show()\n",
    "\n",
    "draw_confusion(y,yhat,['no churn', 'churn'])\n",
    "print (metrics.classification_report(y,yhat))"
   ]
  },
  {
   "cell_type": "markdown",
   "metadata": {},
   "source": [
    "### Evaluation Metrics from Confusion Matrix"
   ]
  },
  {
   "cell_type": "markdown",
   "metadata": {},
   "source": [
    "This result is much better. As we have seen accuracy can be a little informative in some problems. For this reason we may use other performance measures. Classic performance measures can be derived from the confusion matrix. Consider the following confusion matrix:"
   ]
  },
  {
   "cell_type": "code",
   "execution_count": null,
   "metadata": {},
   "outputs": [],
   "source": [
    "def draw_confusion(y,yhat,labels):\n",
    "    cm = metrics.confusion_matrix(y, yhat)\n",
    "    fig = plt.figure()\n",
    "    ax = fig.add_subplot(111)\n",
    "    ax.matshow(cm)\n",
    "    plt.title('Confusion matrix',size=20)\n",
    "    ax.set_xticklabels([''] + labels, size=20)\n",
    "    ax.set_yticklabels([''] + labels, size=20)\n",
    "    plt.ylabel('Predicted',size=20)\n",
    "    plt.xlabel('True',size=20)\n",
    "    ax.text(0, 0, 'TP', va='center', ha='center',color='white',size=20)\n",
    "    ax.text(0, 1, 'FN', va='center', ha='center',color='white',size=20)\n",
    "    ax.text(1, 0, 'FP', va='center', ha='center',color='white',size=20)\n",
    "    ax.text(1, 1, 'TN', va='center', ha='center',color='white',size=20)            \n",
    "    fig.set_size_inches(7,7)\n",
    "    plt.show()\n",
    "\n",
    "draw_confusion(y,yhat,['positive', 'negative'])"
   ]
  },
  {
   "cell_type": "markdown",
   "metadata": {},
   "source": [
    "The matrix is divided in four quarters and contains\n",
    "\n",
    "+ True Positives (TP): Positive samples predicted as such.\n",
    "+ True Negatives (TN): Negative samples predicted as such.\n",
    "+ False Positives (FP): Negative samples predicted as positive.\n",
    "+ False Negatives (FN): Positive samples predicted as negative.\n",
    "\n",
    "The combination of these elements allows to define several performance metrics:\n",
    "\n",
    "+ Accuracy: \n",
    "\n",
    "$$\\text{accuracy}=\\frac{\\text{TP}+\\text{TN}}{\\text{TP}+\\text{TN}+\\text{FP}+\\text{FN}}$$\n",
    "\n",
    "Column-wise we find these two partial performance metrics:\n",
    "\n",
    "+ Sensitivity or Recall: \n",
    "\n",
    "$$\\text{sensitivity}=\\frac{\\text{TP}}{\\text{Real Positives}}=\\frac{\\text{TP}}{\\text{TP}+\\text{FN}}$$\n",
    "\n",
    "+ Specificity:\n",
    "\n",
    "$$\\text{specificity}=\\frac{\\text{TN}}{\\text{Real Negatives}}=\\frac{\\text{TN}}{\\text{TN}+\\text{FP}}$$\n",
    "\n",
    "Row-wise we find these two partial performance metrics:\n",
    "\n",
    "+ Precision or Positive Predictive Value:\n",
    "\n",
    "$$\\text{precision}=\\frac{\\text{TP}}{\\text{Predicted Positives}}=\\frac{\\text{TP}}{\\text{TP}+\\text{FP}}$$\n",
    "\n",
    "+ Negative predictive value:\n",
    "\n",
    "$$\\text{NPV}=\\frac{\\text{TN}}{\\text{Predicted Negative}}=\\frac{\\text{TN}}{\\text{TN}+\\text{FN}}$$\n",
    "\n",
    "The concept of positive and negative samples is purely arbitrary, thus we really have to remember the concepts of precision/positive predictive value and sensitivity/recall. "
   ]
  },
  {
   "cell_type": "code",
   "execution_count": null,
   "metadata": {},
   "outputs": [],
   "source": [
    "# Let us check the concepts with churn as the positive class\n",
    "TP = np.sum(np.logical_and(yhat==1,y==1))\n",
    "TN = np.sum(np.logical_and(yhat==0,y==0))\n",
    "FP = np.sum(np.logical_and(yhat==1,y==0))\n",
    "FN = np.sum(np.logical_and(yhat==0,y==1))\n",
    "\n",
    "print ('TP: ' + str(TP))\n",
    "print ('TN: ' + str(TN))\n",
    "print ('FP: ' + str(FP))\n",
    "print ('FN: ' + str(FN))\n",
    "print ('sensitivity/recall: '+ str(TP/(TP+FN)))\n",
    "print ('precision: '+ str(TP/(TP+FP)))\n"
   ]
  },
  {
   "cell_type": "markdown",
   "metadata": {},
   "source": [
    "#### <ins>When to Use Recall and Precision</ins>\n",
    "\n",
    "In the context of classification tasks, understanding when to prioritize recall or precision can greatly impact the effectiveness of your model, especially in different real-world scenarios.\n",
    "\n",
    "#### Recall (Sensitivity)\n",
    "\n",
    "- **When to Use**: Recall should be prioritized when the cost of false negatives is high. In other words, when it's crucial to capture as many positive instances as possible.\n",
    "- **Example Scenario**: Medical diagnostics where failing to detect a disease (false negative) could be life-threatening. In such cases, it's better to have some false alarms (false positives) than to miss a positive case.\n",
    "  \n",
    "$$\\text{recall} = \\frac{\\text{TP}}{\\text{TP} + \\text{FN}}$$\n",
    "\n",
    "#### Precision (Positive Predictive Value)\n",
    "\n",
    "- **When to Use**: Precision should be prioritized when the cost of false positives is high. This is important when the goal is to be as accurate as possible with the positive predictions.\n",
    "- **Example Scenario**: Email spam detection where it's more disruptive to wrongly classify important emails as spam (false positives) than to miss some spam emails (false negatives).\n",
    "\n",
    "$$\\text{precision} = \\frac{\\text{TP}}{\\text{TP} + \\text{FP}}$$\n",
    "\n",
    "#### Specificity\n",
    "\n",
    "- **When to Use**: Specificity should be prioritized when it's important to capture true negatives. This metric is crucial when the presence of a condition is to be ruled out with certainty.\n",
    "- **Example Scenario**: Screening a rare disease in a large population, where it's important to identify those who definitely don't have the disease.\n",
    "\n",
    "$$\\text{specificity} = \\frac{\\text{TN}}{\\text{TN} + \\text{FP}}$$\n",
    "\n",
    "#### Choosing the Right Metric\n",
    "\n",
    "Deciding whether to prioritize recall or precision (or specificity) often depends on the relative costs of false positives versus false negatives:\n",
    "\n",
    "- **High Cost of False Negatives**: Prioritize recall.\n",
    "- **High Cost of False Positives**: Prioritize precision.\n",
    "- **Balanced Approach Needed**: Consider using the F1-score, which is the harmonic mean of precision and recall, or the AUC-ROC curve, which considers both true positive rate (recall) and false positive rate (1 - specificity).\n",
    "\n",
    "Remember, the choice of metric should align with the business objectives or the specific requirements of the task at hand.\n"
   ]
  },
  {
   "cell_type": "markdown",
   "metadata": {},
   "source": [
    "#### Analyzing the confusion matrix in our problem"
   ]
  },
  {
   "cell_type": "markdown",
   "metadata": {},
   "source": [
    "Our goal is to predict custormer churn, thus we may ask how often the classifier correctly predicts it. We will consider \"churn\" as the positive class. The question we are wondering about is the ratio between the $TP$ and all the $\\text{Real Positives}$. This is the *sensitivity* or *recall*. We are able to correctly predict $187/(187+296) = 0.39$ of the customers that cease the service. Observe that this value is consistent with the classification report when checking recall for class $1$.\n",
    "\n",
    "However, we have to trade-off this value with *precision*. Precision answers the question, from all the customers we predict will churn, which is the ratio of those that actually churn? This effectively tells us the price we are paying in terms of how many non-churn customers are being predicted as quitters. If we check this value, we can see it is $187/(187+59) = 76\\%$. This means that about 1 out 4 customers predicted as churn are not quitting the service."
   ]
  },
  {
   "cell_type": "markdown",
   "metadata": {},
   "source": [
    "**Nearest Neighbors**\n",
    "<p>\n",
    "<ul>\n",
    "<li> One of the simplest classifiers.\n",
    "<li> Smoothness of the model is governed by the number of the neighbors.\n",
    "<li> Hyper-parameter $k$ or $p$ in the $\\ell_p$ norm are set by cross-validation.\n",
    "</ul>\n",
    "</div>"
   ]
  },
  {
   "cell_type": "markdown",
   "metadata": {},
   "source": [
    "## Logistic Regression"
   ]
  },
  {
   "cell_type": "code",
   "execution_count": null,
   "metadata": {},
   "outputs": [],
   "source": [
    "# Supervised Learning Class\n",
    "\n",
    "from sklearn.datasets import load_breast_cancer\n",
    "import pandas as pd\n",
    "\n",
    "cancer = load_breast_cancer()\n",
    "print(\"cancer.keys(): \\n{}\".format(cancer.keys()))\n",
    "print(cancer['target_names'])\n",
    "\n",
    "data = pd.DataFrame(cancer['data'], columns = cancer['feature_names'])\n",
    "target = pd.DataFrame(cancer['target'], columns = ['target'])\n",
    "data.head()\n",
    "\n",
    "from sklearn.linear_model import LogisticRegression\n",
    "## train vs cross validation\n",
    "from sklearn.model_selection import cross_validate\n",
    "\n",
    "from sklearn.model_selection import train_test_split\n",
    "X_train, X_test, y_train, y_test = train_test_split(cancer['data'], cancer['target'], random_state=0)\n",
    "\n",
    "model = LogisticRegression()\n",
    "\n",
    "model.fit(X_train, y_train)\n",
    "\n",
    "print(model.score(X_train, y_train))\n",
    "print(cross_validate(model,X_train, y_train, cv = 5)['test_score'].mean())"
   ]
  },
  {
   "cell_type": "markdown",
   "metadata": {},
   "source": [
    "## Decision trees"
   ]
  },
  {
   "cell_type": "markdown",
   "metadata": {},
   "source": [
    "### Introduction to Decision Trees in Classification\n",
    "\n",
    "Decision trees are a popular machine learning technique used for both classification and regression tasks. They are especially known for their interpretability and ease of use. A decision tree operates by breaking down a dataset into smaller and smaller subsets based on different criteria, and decisions are made based on those subdivisions.\n",
    "\n",
    "### Basic Idea\n",
    "\n",
    "The core **idea** behind decision trees is the \"divide and conquer\" approach. This involves:\n",
    "\n",
    "1. **Partitioning the space**: The dataset's feature space is divided into distinct regions. For classification tasks, these regions are chosen to best separate the different classes.\n",
    "2. **Fitting a model in each patch**: After partitioning, a simple model (or decision) is applied in each region.\n",
    "\n",
    "In **classification trees**, each partition (or \"leaf\") represents a class, and all data points that fall into a region are assigned the corresponding class label.\n",
    "\n",
    "### Key Concepts in Decision Trees\n",
    "\n",
    "#### Gini Index\n",
    "\n",
    "- The Gini index is a metric used to measure how often a randomly chosen element from the set would be incorrectly labeled if it was randomly labeled according to the distribution of labels in the subset. Gini index can be represented as:\n",
    "\n",
    "  $$\\text{Gini}(D) = 1 - \\sum_{i=1}^m p_i^2$$\n",
    "\n",
    "  where $D$ is the dataset and $p_i$ is the proportion of the elements labeled with the current class.\n",
    "\n",
    "- **Usage**: During the construction of a tree, the Gini index is used to evaluate the partitions, and the decision tree algorithm will favor splits that result in regions with the lowest Gini index — that is, the most homogeneous groups.\n",
    "\n",
    "#### Entropy and Information Gain\n",
    "\n",
    "- **Entropy** is another measure used to determine how a space should be split. It quantifies the amount of uncertainty or randomness in the data. Entropy can be calculated as:\n",
    "\n",
    "  $$\\text{Entropy}(S) = - \\sum_{i=1}^m p_i \\log_2 p_i$$\n",
    "\n",
    "- **Information Gain** is the reduction in entropy after a dataset is split on an attribute. It is used to decide which feature to split on at each step in building the tree.\n",
    "\n",
    "#### Tree Pruning\n",
    "\n",
    "- To avoid overfitting, decision trees need to control their growth. **Pruning** is a technique that removes parts of the tree to make it simpler and prevent it from modeling noise in the training data.\n",
    "\n",
    "#### Advantages and Limitations\n",
    "\n",
    "- **Advantages**: Decision trees are easy to understand and interpret, can handle both numerical and categorical data, and require relatively little data preparation.\n",
    "- **Limitations**: They can create overly complex trees that do not generalize well from the training data (overfitting), and small variations in the data can result in different"
   ]
  },
  {
   "cell_type": "markdown",
   "metadata": {},
   "source": [
    "### 1.2.1 Decision tree modeling\n",
    "\n",
    "Elements:\n",
    "\n",
    "- Splits using axis-orthogonal hyperplanes. This is the key that allows interpretability of the results.\n",
    "\n",
    "- At each internal node we test a value of a feature. A feature and a threshold are stored for each internal node.  \n",
    "\n",
    "- Leaves makes the class prediction. If leaves are pure, we have to store the class label. If leaves are impure, then the fraction of samples for each class is stored and its frequency is returned when queried.\n",
    "\n"
   ]
  },
  {
   "cell_type": "markdown",
   "metadata": {},
   "source": [
    "#### Building our intuition on decision trees\n",
    "\n",
    "Let us build up our intuition with a simple example."
   ]
  },
  {
   "cell_type": "code",
   "execution_count": null,
   "metadata": {},
   "outputs": [],
   "source": [
    "%matplotlib inline\n",
    "#Let's see what the boundary looks like in a toy problem.\n",
    "%reset -f\n",
    "import numpy as np\n",
    "import matplotlib.pyplot as plt\n",
    "MAXN=10\n",
    "np.random.seed(2)\n",
    "X = np.concatenate([1.25*np.random.randn(MAXN,2),5+1.5*np.random.randn(MAXN,2)]) \n",
    "X = np.concatenate([X,[8,5]+1.5*np.random.randn(MAXN,2)])\n",
    "y = np.concatenate([np.ones((MAXN,1)),-np.ones((MAXN,1))])\n",
    "y = np.concatenate([y,np.ones((MAXN,1))])\n",
    "idxplus = y==1\n",
    "idxminus = y==-1\n",
    "plt.scatter(X[idxplus.ravel(),0],X[idxplus.ravel(),1],color='r')\n",
    "plt.scatter(X[idxminus.ravel(),0],X[idxminus.ravel(),1],color='b')\n",
    "\n",
    "from sklearn import tree\n",
    "from sklearn import metrics\n",
    "\n",
    "delta = 0.05\n",
    "xx = np.arange(-5.0, 15.0, delta)\n",
    "yy = np.arange(-5.0, 15.0, delta)\n",
    "XX, YY = np.meshgrid(xx, yy)\n",
    "Xf = XX.flatten()\n",
    "Yf = YY.flatten()\n",
    "sz=XX.shape\n",
    "data = np.c_[Xf[:,np.newaxis],Yf[:,np.newaxis]];\n",
    "clf = tree.DecisionTreeClassifier(random_state=0)\n",
    "clf.fit(X,y.ravel())\n",
    "Z=clf.predict(data)\n",
    "Z.shape=sz\n",
    "\n",
    "plt.imshow(Z, interpolation='bilinear', origin='lower', extent=(-5,15,-5,15),alpha=0.3, vmin=-1, vmax=1)\n",
    "plt.contour(XX,YY,Z,[0])\n",
    "fig = plt.gcf()\n",
    "fig.set_size_inches(9,9)"
   ]
  },
  {
   "cell_type": "code",
   "execution_count": null,
   "metadata": {},
   "outputs": [],
   "source": [
    "!dot -V\n"
   ]
  },
  {
   "cell_type": "code",
   "execution_count": null,
   "metadata": {},
   "outputs": [],
   "source": [
    "#!pip install scikit-learn graphviz pydot\n",
    "#Export Tree\n",
    "import os\n",
    "dotfile = tree.export_graphviz(clf, out_file = \"toy_tree.dot\")\n",
    "\n",
    "os.system(\"dot -Tpng toy_tree.dot -o toy_tree.png\")\n",
    "\n",
    "from IPython.core.display import Image\n",
    "Image(\"toy_tree.png\")"
   ]
  },
  {
   "cell_type": "markdown",
   "metadata": {},
   "source": [
    "Let us check the meaning of the tree. The first node splits the training set using feature $1$ by applying the threshold $\\leq 3.04$. As a result we are able to correctly classify eleven of the thirty data points. Let us see the boundary in that case."
   ]
  },
  {
   "cell_type": "code",
   "execution_count": null,
   "metadata": {},
   "outputs": [],
   "source": [
    "clf = tree.DecisionTreeClassifier(random_state=0,max_depth=1)\n",
    "clf.fit(X,y.ravel())\n",
    "Z=clf.predict(data)\n",
    "Z.shape=sz\n",
    "\n",
    "plt.scatter(X[idxplus.ravel(),0],X[idxplus.ravel(),1],color='r')\n",
    "plt.scatter(X[idxminus.ravel(),0],X[idxminus.ravel(),1],color='b')\n",
    "\n",
    "\n",
    "plt.imshow(Z, interpolation='bilinear', origin='lower', extent=(-5,15,-5,15),alpha=0.3, vmin=-1, vmax=1)\n",
    "plt.contour(XX,YY,Z,[0])\n",
    "fig = plt.gcf()\n",
    "fig.set_size_inches(9,9)"
   ]
  },
  {
   "cell_type": "markdown",
   "metadata": {},
   "source": [
    "The second node splits the training set using feature $0$ by applying the threshold $\\leq 6.25$. Note that this only is used in the part of the space where feature $1$ is greater  than $3.04$. Observe that the remaining blue space is characterized by the following logical function: $(x_1>3.04) \\wedge (x_0\\leq 6.25)$"
   ]
  },
  {
   "cell_type": "code",
   "execution_count": null,
   "metadata": {},
   "outputs": [],
   "source": [
    "clf = tree.DecisionTreeClassifier(random_state=0, max_depth=2)\n",
    "clf.fit(X,y.ravel())\n",
    "Z=clf.predict(data)\n",
    "Z.shape=sz\n",
    "\n",
    "plt.scatter(X[idxplus.ravel(),0],X[idxplus.ravel(),1],color='r')\n",
    "plt.scatter(X[idxminus.ravel(),0],X[idxminus.ravel(),1],color='b')\n",
    "\n",
    "plt.imshow(Z, interpolation='bilinear', origin='lower', extent=(-5,15,-5,15),alpha=0.3, vmin=-1, vmax=1)\n",
    "plt.contour(XX,YY,Z,[0])\n",
    "fig = plt.gcf()\n",
    "fig.set_size_inches(9,9)"
   ]
  },
  {
   "cell_type": "markdown",
   "metadata": {},
   "source": [
    "What is great about decision trees?\n",
    "\n",
    "+ Trees are easy for humans to interpret. It can be seen as a set of rules. Each path from root to one leaf of the tree is an AND combination of the thresholded features.\n",
    "+ Given a finite data set, decision trees can express any function of the input attributes. In ${\\bf R}^d$ we can isolate every point in the data set by constructing a box around each of them.\n",
    "+ There can be more than one tree that fits the same data. From all of them we would like a tree with minimum number of nodes. But the problem is NP."
   ]
  },
  {
   "cell_type": "markdown",
   "metadata": {},
   "source": [
    "#### Learning the tree\n",
    "\n",
    "Because the problem is NP we can resort to a greedy construction algorithm. Greedy algorithms choose the current best binary partition without taking into account its impact on the quality of subsequent splits.\n",
    "\n",
    "The algorithm idea is as follows:\n",
    "\n",
    "+ Initialize the algorithm with a node associated to the full data set. \n",
    "\n",
    "**while** the list is not empty\n",
    "1. Retrieve the first node from the list.\n",
    "2. Find the data associated to that node.\n",
    "3. Find a splitting point.\n",
    "4. If the node is splittable, create the nodes linked to the parent node and put them in the exploration list.\n",
    "\n",
    "#### The splitting criterion\n",
    "\n",
    "There are many different splitting criteria. The most common ones are:\n",
    "\n",
    "+ Misclassification error\n",
    "+ Gini index\n",
    "+ Cross-entropy/Information gain/Mutual information\n",
    "\n",
    "Withouth going into details: \n",
    "\n",
    " - Misclassification error splits greedily select the split that corrects more data at each point. \n",
    " - Gini index and cross-entropy probabilistically model the notion of impurity of a node. The split is chosen so that the average purity of the new nodes is maximized. Observe that as we descend in the tree the purity increases and eventually converge to pure leaves.\n",
    " - Entropy measures the average surprise/information a probabilistic result yields. In a binary variable, the maximum surprise occurs when both outcomes are equally probable, one has the maximum uncertainty on the result. Otherwise, the surprise decreases. This behavior is also display in Gini's index."
   ]
  },
  {
   "cell_type": "code",
   "execution_count": null,
   "metadata": {},
   "outputs": [],
   "source": [
    "import numpy as np\n",
    "entropy = lambda p: -np.sum(p * np.log2(p)) if not 0 in p else 0\n",
    "gini = lambda p: 1. - (np.array(p)**2).sum()\n",
    "pvals = np.linspace(0, 1)        \n",
    "plt.plot(pvals, [entropy([p,1-p])/2. for p in pvals], label='Entropy')\n",
    "plt.plot(pvals, [gini([p,1-p]) for p in pvals], label='Gini')\n",
    "plt.legend()"
   ]
  },
  {
   "cell_type": "markdown",
   "metadata": {},
   "source": [
    "#### Trees and overfitting\n",
    "\n",
    "Because trees are very expressive models they can model any training set perfectly and easily overfit.\n",
    "\n",
    "There are two ways of avoiding overfitting in trees:\n",
    "\n",
    "+ Stop growing the tree when the split is not statistically significant.\n",
    "+ Grow a full tree and post-prune.\n",
    "\n",
    "One of the simplest ways of post pruning is \"reduced error prunning\". It goes like this,\n",
    "\n",
    "1. Split data into training and validation\n",
    "2. Create a candidate tree on the training set\n",
    "3. Do until further pruning is harmful\n",
    "    1. Evaluate impact on the validation set of removing each posible node (with descendants)\n",
    "    2. Greedily remove the node that improves the performance the most.\n",
    "    \n",
    "Pruning is not implemented in sklearn at this moment. However let us check what happens in our customer churn prediction problem when we use a decision tree."
   ]
  },
  {
   "cell_type": "code",
   "execution_count": null,
   "metadata": {},
   "outputs": [],
   "source": [
    "%reset -f\n",
    "#Recover Churn data\n",
    "import pickle\n",
    "fname = open('churn_data.pkl','rb')\n",
    "data = pickle.load(fname)\n",
    "X = data[0]\n",
    "y = data[1]\n",
    "features = data[2]\n",
    "print ('Loading ok.')"
   ]
  },
  {
   "cell_type": "code",
   "execution_count": null,
   "metadata": {},
   "outputs": [],
   "source": [
    "#NO SNOOPING\n",
    "import numpy as np\n",
    "from sklearn import model_selection\n",
    "from sklearn import tree\n",
    "from sklearn import metrics\n",
    "\n",
    "\n",
    "kf=model_selection.KFold(n_splits=5, shuffle=False)\n",
    "kf.get_n_splits()\n",
    "acc = np.zeros((5,))\n",
    "i=0\n",
    "#We will build the predicted y from the partial predictions on the test of each of the folds\n",
    "yhat = y.copy()\n",
    "for train_index, test_index in kf.split(X):\n",
    "    X_train, X_test = X[train_index], X[test_index]\n",
    "    y_train, y_test = y[train_index], y[test_index]\n",
    "\n",
    "    dt = tree.DecisionTreeClassifier(criterion='entropy')\n",
    "    dt.fit(X_train,y_train)\n",
    "\n",
    "    yhat[test_index] = dt.predict(X_test)\n",
    "    acc[i] = metrics.accuracy_score(yhat[test_index], y_test)\n",
    "    i=i+1\n",
    "print ('Mean accuracy: '+ str(np.mean(acc)))"
   ]
  },
  {
   "cell_type": "code",
   "execution_count": null,
   "metadata": {},
   "outputs": [],
   "source": [
    "import matplotlib.pyplot as plt\n",
    "def draw_confusion(y,yhat,labels):\n",
    "    cm = metrics.confusion_matrix(y, yhat)\n",
    "    fig = plt.figure()\n",
    "    ax = fig.add_subplot(111)\n",
    "    ax.matshow(cm)\n",
    "    plt.title('Confusion matrix',size=20)\n",
    "    ax.set_xticklabels([''] + labels, size=20)\n",
    "    ax.set_yticklabels([''] + labels, size=20)\n",
    "    plt.ylabel('Predicted',size=20)\n",
    "    plt.xlabel('True',size=20)\n",
    "    for i in range(2):\n",
    "        for j in range(2):\n",
    "            ax.text(i, j, cm[i,j], va='center', ha='center',color='white',size=20)\n",
    "    fig.set_size_inches(7,7)\n",
    "    plt.show()\n",
    "\n",
    "draw_confusion(y,yhat,['no churn', 'churn'])\n",
    "print (metrics.classification_report(y,yhat))"
   ]
  },
  {
   "cell_type": "code",
   "execution_count": null,
   "metadata": {},
   "outputs": [],
   "source": [
    "# Let us check the concepts with churn as the positive class\n",
    "TP = np.sum(np.logical_and(yhat==1,y==1))\n",
    "TN = np.sum(np.logical_and(yhat==0,y==0))\n",
    "FP = np.sum(np.logical_and(yhat==1,y==0))\n",
    "FN = np.sum(np.logical_and(yhat==0,y==1))\n",
    "\n",
    "print ('TP: ' + str(TP))\n",
    "print ('TN: ' + str(TN))\n",
    "print ('FP: ' + str(FP))\n",
    "print ('FN: ' + str(FN))\n",
    "print ('sensitivity/recall: '+ str(TP/(TP+FN)))\n",
    "print ('precision: '+ str(TP/(TP+FP)))"
   ]
  },
  {
   "cell_type": "markdown",
   "metadata": {},
   "source": [
    "Observe that by using a decision tree, the recall increased by $30\\%$ while having the precision at a simliar level than nearest neighbors. Let us check the first levels of the tree."
   ]
  },
  {
   "cell_type": "code",
   "execution_count": null,
   "metadata": {},
   "outputs": [],
   "source": [
    "import os\n",
    "#Let us check the the first three levels of the tree. GraphViz and PyDot are needed.\n",
    "dt = tree.DecisionTreeClassifier(criterion='entropy', max_depth=3)\n",
    "#scaler = StandardScaler()\n",
    "#Xs = scaler.fit_transform(X)\n",
    "dt.fit(X,y)\n",
    "\n",
    "import pandas as pd\n",
    "display(pd.DataFrame(X, columns = features))\n",
    "\n",
    "#Export Tree\n",
    "\n",
    "dotfile = tree.export_graphviz(dt, out_file = \"churn.dot\", feature_names = features)\n",
    "\n",
    "os.system(\"dot -Tpng churn.dot -o churn.png\")\n",
    "from IPython.core.display import Image\n",
    "Image(\"churn.png\")"
   ]
  },
  {
   "cell_type": "markdown",
   "metadata": {},
   "source": [
    "Observe the first feature split and the values of the entropy according to the split."
   ]
  },
  {
   "cell_type": "code",
   "execution_count": null,
   "metadata": {},
   "outputs": [],
   "source": [
    "entropy = lambda p: -np.sum(p * np.log2(p)) if not 0 in p else 0\n",
    "\n",
    "#Let us check the entropy on the root node\n",
    "#There are 2850 samples of customers that stay in the company. The frequency is\n",
    "proot = 2850/3333\n",
    "#And the entropy value is\n",
    "print( 'Root node entropy: '+ str(entropy([proot,1-proot])))\n",
    "\n",
    "#After the split we have the following frequencies for the left and right children\n",
    "pleft = 2766/3122 #Frequency of label 0 on the left node\n",
    "pright = 84/211 #Frequency of label 0 on the right node\n",
    "\n",
    "print( 'Left node entropy: '+ str(entropy([pleft,1-pleft])))\n",
    "print ('Right node entropy: '+ str(entropy([pright,1-pright])))\n",
    "print(\"Weighted mean of Entropy: \", entropy([pleft,1-pleft])*3122/3333 + entropy([pright,1-pright])*211/3333)\n",
    "\n",
    "#Information gain computes the difference between the entropy of the parent and the weighed entropies of the children\n",
    "# I = H_root - \\sum freq_i * H_i\n",
    "\n",
    "I = entropy([proot,1-proot]) - 3122/3333*entropy([pleft,1-pleft])+211/3333*entropy([pright,1-pright])\n",
    "\n",
    "print ('Information gain: '+ str(I))"
   ]
  },
  {
   "cell_type": "markdown",
   "metadata": {},
   "source": [
    "The split reduces the average entropy of the children, thus the splits are more pure.\n",
    "\n",
    "Observations:\n",
    "\n",
    "+ Observe that because we have restricted (for visualization purposes) the maximum depth of the tree, the leaves are not pure. \n",
    "+ Analyzing the leaves we can see that most of the clients that are hooked to the plan share the following conditions:\n",
    "\n",
    "$$(\\text{Day Charge} \\geq 44.96) \\wedge (\\text{VMail Plan} = \\text{YES}) \\wedge (\\text{International Plan} = \\text{YES})$$\n"
   ]
  },
  {
   "cell_type": "markdown",
   "metadata": {},
   "source": [
    "## Bayesian models (Naive Bayes) and some applications"
   ]
  },
  {
   "cell_type": "markdown",
   "metadata": {},
   "source": [
    "Bayesian models (Naive Bayes) and some applications\n",
    "\n",
    "Imagine we have a big basket of fruits, and we want to sort them into types like apples, bananas, and oranges. This task is similar to what the Naive Bayes classifier does in the world of machine learning, but instead of sorting fruits, it sorts information.\n",
    "\n",
    "#### What is Naive Bayes?\n",
    "\n",
    "Naive Bayes is like a smart sorting machine that helps us organize things based on what it knows about them. For our fruit example, think of Naive Bayes as a friend who helps you sort fruits by telling you which fruit is likely to be an apple, a banana, or an orange, based on their characteristics like color, shape, and taste.\n",
    "\n",
    "- **Bayes' Theorem**: This is the rule our sorting machine uses. It's a mathematical formula that helps predict the type of fruit based on its features. For instance, if you tell it a fruit is long and yellow, Bayes' Theorem helps it guess that it's probably a banana.\n",
    "\n",
    "- **Naive Assumption**: The \"naive\" part comes from the machine treating each feature (like color or shape) as if it's completely independent of the others. Even though this isn't how things work in real life (for example, oranges are both orange and round), this assumption makes our machine very fast and surprisingly good at guessing!\n",
    "\n",
    "#### How Does Naive Bayes Sort Fruits?\n",
    "\n",
    "Let's break it down into simple steps:\n",
    "\n",
    "1. **Learning**: First, you show the machine lots of different fruits and tell it what they are. This is like teaching it the game by showing it examples.\n",
    "\n",
    "2. **Guessing**: After learning, when you give the machine a new fruit it hasn't seen before, it uses what it learned to guess the fruit's type. It looks at the fruit's features (color, shape, taste) and calculates which type it's most likely to be.\n",
    "\n",
    "##### Seeing Naive Bayes in Action\n",
    "\n",
    "Imagine you draw circles around apples, bananas, and oranges based on their features. Naive Bayes does something similar in its mind. When a new fruit comes along, it sees where the fruit fits best based on the circles drawn from what it learned.\n",
    "\n",
    "#### Why is Naive Bayes So Special?\n",
    "\n",
    "Even though it makes simple assumptions, Naive Bayes can quickly sort through lots of information (or fruits) and make accurate guesses. It's like having a super-fast fruit sorter that gets better the more it learns.\n",
    "\n",
    "Next, we'll see how we can use this amazing sorter not just for fruits, but for sorting all kinds of things, making our lives easier and more organized. We'll take it step by step, ensuring it's fun and easy to understand.\n",
    "\n",
    "[Naive Bayes explained](https://www.youtube.com/watch?v=O2L2Uv9pdDA&ab_channel=StatQuestwithJoshStarmer)"
   ]
  },
  {
   "cell_type": "code",
   "execution_count": null,
   "metadata": {},
   "outputs": [],
   "source": [
    "# Reset the environment to ensure a clean slate\n",
    "%reset -f\n",
    "\n",
    "# Enable plotting in the Jupyter Notebook\n",
    "%matplotlib inline\n",
    "\n",
    "# Import necessary libraries\n",
    "import numpy as np\n",
    "from sklearn.naive_bayes import GaussianNB\n",
    "import matplotlib.pyplot as plt\n",
    "\n",
    "# Create synthetic data for two groups\n",
    "# The data for each group is generated around a different center point to simulate distinction\n",
    "X = np.concatenate([1.25*np.random.randn(40,2), 5+1.5*np.random.randn(40,2)]) \n",
    "y = np.concatenate([np.ones((40,1)), -np.ones((40,1))])\n",
    "\n",
    "# Initialize the Gaussian Naive Bayes classifier\n",
    "nb = GaussianNB()\n",
    "# Train the classifier with the synthetic data\n",
    "nb.fit(X, y.ravel())\n",
    "\n",
    "# Create a grid of points to visualize the decision boundary\n",
    "delta = 0.025\n",
    "xx = np.arange(-5.0, 10.0, delta)\n",
    "yy = np.arange(-5.0, 10.0, delta)\n",
    "XX, YY = np.meshgrid(xx, yy)\n",
    "\n",
    "# Predict probabilities on the grid to visualize the decision boundary\n",
    "Z = nb.predict_proba(np.c_[XX.ravel(), YY.ravel()])\n",
    "Z = Z[:, 1].reshape(XX.shape)\n",
    "\n",
    "# Plotting\n",
    "plt.figure()\n",
    "# Separate the data into two groups for plotting\n",
    "idxplus = y == 1\n",
    "idxminus = y == -1\n",
    "idxplus = idxplus.flatten()\n",
    "idxminus = idxminus.flatten()\n",
    "# Plot the first group in red\n",
    "plt.scatter(X[idxplus, 0], X[idxplus, 1], color='r', alpha=0.4)\n",
    "# Plot the second group in blue\n",
    "plt.scatter(X[idxminus, 0], X[idxminus, 1], color='b', alpha=0.4)\n",
    "# Overlay the probability density to visualize the decision boundary\n",
    "plt.imshow(Z, interpolation='bilinear', origin='lower', extent=(-5, 10, -5, 10), alpha=0.3, vmin=0, vmax=1)\n",
    "# Draw the contour line where the probability is 0.5 (decision boundary)\n",
    "plt.contour(XX, YY, Z, [0.5])\n",
    "# Adjust the figure size for better visibility\n",
    "fig = plt.gcf()\n",
    "fig.set_size_inches(9, 9)"
   ]
  },
  {
   "cell_type": "markdown",
   "metadata": {},
   "source": [
    ">If the boundary is not linear why is it considered a linear model? It is not a linear model, though it is an affine model with respect to the weights. In the particular case of text classification we will use certain probability density functions that will make the model linear."
   ]
  },
  {
   "cell_type": "markdown",
   "metadata": {},
   "source": [
    "The Gaussian Naive Bayes classifier, a cornerstone of machine learning, particularly shines in its simplicity and effectiveness in classification tasks. Through the Python example provided, we've visualized not just the classification process but also how Naive Bayes makes decisions based on probabilities.\n",
    "\n",
    "#### Key Takeaways\n",
    "\n",
    "- **Simplicity in Action**: The Naive Bayes classifier, despite its underlying assumption of feature independence, demonstrates robust performance in classifying data into distinct groups. This example, using synthetic data, showcases how even with basic assumptions, significant insights can be gleaned.\n",
    "\n",
    "- **Visualization of Decision Boundaries**: By plotting the data points and the decision boundary, we gain a visual understanding of how Naive Bayes classifies data. The contour line at which the probability is 0.5 acts as the threshold—data points falling on one side of this line belong to one category, and those on the other side belong to another.\n",
    "\n",
    "- **Probabilistic Approach**: The background gradient in the visualization represents the probability of belonging to one of the categories. This gradient illustrates the probabilistic nature of Naive Bayes, offering more than just classifications—it provides insights into the certainty of its predictions.\n",
    "\n"
   ]
  },
  {
   "cell_type": "markdown",
   "metadata": {},
   "source": [
    "#### 10.1.1 Basic document representation"
   ]
  },
  {
   "cell_type": "markdown",
   "metadata": {},
   "source": [
    "Imagine you're sorting through a pile of different stories, and you want to organize them into groups like \"adventure tales\" or \"fairy tales.\" This is what we call **text classification**, and we use a method called Naive Bayes to help us figure out which group each story belongs to.\n",
    "\n",
    "#### How Do We Understand Stories?\n",
    "\n",
    "To help Naive Bayes sort stories, we first need to translate the stories into a format it can understand. We do this using a **bag-of-words** approach. Think of this as taking each story and breaking it down into a list of words that we're interested in.\n",
    "\n",
    "- **Bag-of-Words Example**: Suppose we're interested in stories about \"pirates\" and \"wizards.\" We decide to focus on certain words like \"ship,\" \"treasure,\" \"wand,\" and \"spell.\" We then see how many times these words appear in each story.\n",
    "\n",
    "| Story | Ship | Treasure | Wand | Spell |\n",
    "|-------|------|----------|------|-------|\n",
    "| 1 (Pirates) | 3    | 2        | 0    | 0     |\n",
    "| 2 (Pirates) | 2    | 1        | 0    | 1     |\n",
    "| 3 (Wizards) | 0    | 0        | 2    | 3     |\n",
    "| 4 (Wizards) | 0    | 1        | 3    | 2     |\n",
    "\n",
    "- In this table, Story 1 has 3 \"ship\" words, 2 \"treasure\" words, and none of the \"wand\" or \"spell\" words, which helps Naive Bayes guess it's a pirate story.\n",
    "\n",
    "#### How Naive Bayes Makes Its Guess\n",
    "\n",
    "Naive Bayes looks at the word counts for each story. If a story has more \"pirate\" words like \"ship\" and \"treasure,\" it guesses it's about pirates. If it has more \"wizard\" words like \"wand\" and \"spell,\" it guesses it's about wizards.\n",
    "\n",
    "#### Key Points to Remember\n",
    "\n",
    "- **Counting vs. Presence**: Sometimes, just knowing whether a word appears in the story or not (yes/no) is enough, instead of counting how many times it appears.\n",
    "- **Word Order Doesn't Matter**: With bag-of-words, the order of words is ignored. \"The treasure is on the ship\" and \"The ship is on the treasure\" would be seen as the same. Although they mean different things, for our purpose of sorting stories, this simple approach can still be very effective.\n",
    "\n",
    "By transforming stories into bags of words, Naive Bayes assists us in categorizing them into themes like \"pirates\" or \"wizards.\" Despite its simplicity, this method is a powerful tool for helping computers understand and organize stories, much like we do.\n",
    "\n",
    "#### Understanding the Naive Bayes Classifier in Document Classification\n",
    "\n",
    "Naive Bayes is a straightforward yet powerful approach used in predicting the category of documents. It's like playing a guessing game where, based on the words used in a document, we try to predict its topic, such as whether it's about \"economics\" or \"technology.\"\n",
    "\n",
    "#### How Naive Bayes Works\n",
    "\n",
    "At its heart, Naive Bayes selects the category that is most likely to be correct based on the words present in the document. This is done using a mathematical formula known as Bayes' Theorem:\n",
    "\n",
    "- To find out which category is the most probable, we use this formula:\n",
    "\n",
    "  $$\\hat{y} = \\arg\\max_y p(y|x).$$\n",
    "\n",
    "  Here, $\\hat{y}$ is our best guess for the category of the document, $y$ represents a possible category, and $x$ is the description of the document (like the words it contains).\n",
    "\n",
    "- Bayes' Theorem helps us in this guessing game by relating different probabilities:\n",
    "\n",
    "  $$p(y|x) = \\frac{p(x|y)p(y)}{p(x)}.$$\n",
    "\n",
    "  In simple terms, this tells us how likely a category is given the document's description. We calculate this by looking at how common the words are in each category ($p(x|y)$), how common each category is ($p(y)$), and how common these words are in all documents ($p(x)$).\n",
    "\n",
    "#### Simplifying the Process\n",
    "\n",
    "When we're classifying documents, we're essentially comparing which category is more likely based on the words used. For instance, if a document contains words more common in \"economics\" than in \"technology,\" it will be classified under \"economics.\"\n",
    "\n",
    "- Interestingly, we don't need to worry about $p(x)$, the probability of seeing a particular set of words, because it doesn't change our decision. This simplifies our formula to:\n",
    "\n",
    "  $$P(y|x) \\propto P(y)P(x|y)$$\n",
    "\n",
    "  This means we're mostly interested in how likely a category is ($P(y)$) and how likely we are to see these words if the document is in that category ($P(x|y)$).\n",
    "\n",
    "#### Naive Bayes' Special Assumption\n",
    "\n",
    "What makes Naive Bayes \"naive\" is its assumption that each word in the document affects the category independently of other words. This assumption allows us to simply multiply the probabilities of individual words relating to a category to find the overall likelihood:\n",
    "\n",
    "$$p(x_1,x_2,...,x_N | y) = p(x_1|y)p(x_2|y)...p(x_N|y) = \\prod\\limits_{i=1}^N p(x_i|y)$$\n",
    "\n",
    "For example, the probability that a document is about \"technology\" given it contains certain words can be calculated by multiplying the probabilities of each of those words belonging to the \"technology\" category.\n",
    "\n",
    "#### Practical Application\n",
    "\n",
    "When applying Naive Bayes to document classification, we might not always know the prior probability of each category ($p(y)$). In such cases, we might treat all categories as equally likely or use what's known as a non-informative prior. This leads us to focus on the likelihood of words within categories, simplifying our task to finding the most likely category based on the words in the document.\n",
    "\n",
    "In summary, Naive Bayes helps us classify documents by comparing the probabilities of words within categories, making it a straightforward yet effective tool for understanding and organizing information.\n"
   ]
  },
  {
   "cell_type": "markdown",
   "metadata": {},
   "source": [
    "#### 10.1.2 Estimating conditioned probabilities "
   ]
  },
  {
   "cell_type": "markdown",
   "metadata": {},
   "source": [
    "The last remaining step is the estimation of the individual conditional probabilities. There are two classical variants the **Multinomial Naive Bayes** and the **Bernoulli Naive Bayes**. The difference between both lies in the goal of what they are modeling. **In Multinomial NB we compute the probability of generating the observed document.** In this sense, we multiply the conditional probability of each word in the document for all words present in the document. An alternative view is the *Bernoulli model*. **In the Bernoulli Naive Bayes we compute the probability of the binary bag-of-words descriptor.** Observe that in the Bernouilli Naive Bayes the final probability depends on the words that appear in the document but also on the words that do not appear while in the multinomial NB it only depends on the words that appear. On the contrary, multinomial naive bayes takes into account the multiplicity of the words in the document while Bernoulli does not. Let us consider in this example the *Bernoulli model* that is consistent with our representation where a zero indicates a word is not present in the document and a one represents it is present. In order to estimate this probability we can use a frequentist approximation to probability, i.e. we will estimate the probability as the frequency of appearance of each term in each category. This computation divides the number documents where the word appears over the total number of documents. \n",
    "\n",
    "In our previous example, $p(x_3=1 (\\text{the word 'price' appears})|y =\\text{'tech'}) = 1/2$ and $p(x_3=1 (\\text{the word 'price' appears})|y =\\text{'eco'}) = 2/2$. This is computed by dividing the number of documents where the word price appear in a given category over the number of documents of that category.\n",
    "\n",
    "#### The zero probability effect\n",
    "In the former example the probability $p(x_5=1|y=\\text{'eco'}) = 0$. This implies that if the word 'mobile' appears the document can not belong to the class $\\text{'economy'}$. It is unreasonable to completely penalize a whole class by the appearance or not appearance of a single word. It is customary to assign to those cases a very low probability value instead. One well known approach to correct this effect is the so called **Laplace correction**. It is computed as follows,\n",
    "\n",
    "$$p(x_i=1 | y=c_k ) = \\frac{\\text{# of documents of class } c_k \\text{ where word } x_i \\text{ appears} + 1}{\\text{# of documents of class } c_k + M}$$\n",
    "\n",
    "where $M$ is the amount of words in the description. \n",
    "\n",
    "#### Underflow effect\n",
    "\n",
    "As the number of words in the description increase there is a higher probability that many of those words will not be present in the document. The product of many very small values may lead to floating point underflow effects. For this reason it is usual to use the log probability instead. This transformation does not change the decision boundary. In our simplified case\n",
    "\n",
    "$$\\log p(x|y) = \\sum\\limits_{i=1}^N \\log p(x_i|y)$$"
   ]
  },
  {
   "cell_type": "markdown",
   "metadata": {},
   "source": [
    "#### 10.1.3 Applying Naive Bayes to text classification"
   ]
  },
  {
   "cell_type": "markdown",
   "metadata": {},
   "source": [
    "In this example, our goal is to automatically categorize news according to their title into twenty-eight standard topics. In this problem we will deal with every New York Times front page story from 1996 to 2006, coded according to the Policy Agendas (http://www.policyagendas.org). This collection of data has been compiled by Amber E. Boydstun.\n",
    "\n",
    "Specifically, we are interested in classifying news from The New York Times in the following macro-topics according to its title:\n",
    "\n",
    "\n",
    "\n",
    "<table border=\"1\">\n",
    "<tr>\n",
    "<td>\n",
    "1 \n",
    "<td>\n",
    "Macroeconomics\n",
    "<tr>\n",
    "<td>\n",
    "2 \n",
    "<td>\n",
    "Civil Rights, Minority Issues, and Civil Liberties \n",
    "<tr>\n",
    "<td>\n",
    "3\n",
    "<td>\n",
    "Health\n",
    "<tr>\n",
    "<td>\n",
    "4 \n",
    "<td>Agriculture\n",
    "<tr>\n",
    "<td>\n",
    "5 \n",
    "<td>Labor, Employment, and Immigration\n",
    "<tr>\n",
    "<td>\n",
    "6 \n",
    "<td> Education\n",
    "<tr>\n",
    "<td>\n",
    "7\n",
    "<td>Environment\n",
    "<tr>\n",
    "<td>\n",
    "8\n",
    "<td>Energy\n",
    "<tr>\n",
    "<td>\n",
    "10 \n",
    "<td>Transportation\n",
    "<tr>\n",
    "<td>\n",
    "12 \n",
    "<td>Law, Crime, and Family Issues\n",
    "<tr>\n",
    "<td>\n",
    "13 \n",
    "<td>Social Welfare\n",
    "<tr>\n",
    "<td>\n",
    "14 \n",
    "<td>Community Development and Housing Issues\n",
    "<tr>\n",
    "<td>\n",
    "15 \n",
    "<td>Banking, Finance, and Domestic Commerce\n",
    "<tr>\n",
    "<td>\n",
    "16 \n",
    "<td>Defense\n",
    "<tr>\n",
    "<td>\n",
    "17 \n",
    "<td>Space, Science, Technology and Communications\n",
    "<tr>\n",
    "<td>\n",
    "18 \n",
    "<td>Foreign Trade\n",
    "<tr>\n",
    "<td>\n",
    "19 \n",
    "<td>International Affairs and Foreign Aid\n",
    "<tr>\n",
    "<td>\n",
    "20 \n",
    "<td>Government Operations\n",
    "<tr>\n",
    "<td>\n",
    "21 \n",
    "<td>Public Lands and Water Management\n",
    "<tr>\n",
    "<td>\n",
    "24 \n",
    "<td>State and Local Government Administration\n",
    "<tr>\n",
    "<td>\n",
    "26 \n",
    "<td>Weather and Natural Disasters\n",
    "<tr>\n",
    "<td>\n",
    "27 \n",
    "<td>Fires\n",
    "<tr>\n",
    "<td>\n",
    "28 \n",
    "<td>Arts and Entertainment\n",
    "<tr>\n",
    "<td>\n",
    "29 \n",
    "<td>Sports and Recreation\n",
    "<tr>\n",
    "<td>\n",
    "30 \n",
    "<td>Death Notices\n",
    "<tr>\n",
    "<td>\n",
    "31 \n",
    "<td>Churches and Religion\n",
    "<tr>\n",
    "<td>\n",
    "99 \n",
    "<td>Other, Miscellaneous, and Human Interest\n"
   ]
  },
  {
   "cell_type": "code",
   "execution_count": null,
   "metadata": {},
   "outputs": [],
   "source": [
    "%reset -f\n",
    "#load data\n",
    "import pandas as pd\n",
    "data=pd.read_csv('Boydstun_NYT_FrontPage_Dataset_1996-2006_0.csv')\n",
    "data.head()"
   ]
  },
  {
   "cell_type": "markdown",
   "metadata": {},
   "source": [
    "Let us split the data set in two set: \n",
    "    \n",
    "+ We will train the classifier with news up to 2004.\n",
    "+ We will test the classifier in news from 2005 and 2006."
   ]
  },
  {
   "cell_type": "code",
   "execution_count": null,
   "metadata": {},
   "outputs": [],
   "source": [
    "import numpy as np\n",
    "import pandas as pd\n",
    "\n",
    "# Splitting the dataset based on date: Training data will be from before 1/1/2004, and testing data from 2004 to 2006\n",
    "split = pd.to_datetime(pd.Series(data['Date'])) < pd.Timestamp(2004, 1, 1)\n",
    "\n",
    "# Extracting the 'Title' column as our raw data\n",
    "raw_data = data['Title']\n",
    "\n",
    "# Splitting the titles into training and testing sets based on the date\n",
    "raw_train = raw_data[split]\n",
    "raw_test = raw_data[np.logical_not(split)]\n",
    "\n",
    "# Extracting the topic labels for our dataset\n",
    "y = data['Topic_2digit']\n",
    "\n",
    "# Splitting the labels into training and testing sets corresponding to our title splits\n",
    "y_train = y[split]\n",
    "y_test = y[np.logical_not(split)]\n",
    "\n",
    "# Printing out the sizes of our training and testing datasets to ensure the split was done correctly\n",
    "print('Check the split sizes, train, test and total amount of data:')\n",
    "print(raw_train.shape, raw_test.shape, raw_data.shape)\n",
    "\n",
    "# Displaying the unique labels in our dataset to understand the classification categories\n",
    "print('Display the labels:')\n",
    "print(np.unique(y))"
   ]
  },
  {
   "cell_type": "code",
   "execution_count": null,
   "metadata": {},
   "outputs": [],
   "source": [
    "# Importing the necessary tool for text processing\n",
    "from sklearn.feature_extraction.text import CountVectorizer\n",
    "\n",
    "# Initializing the CountVectorizer with specific parameters\n",
    "vectorizer = CountVectorizer(\n",
    "    min_df=2,  # A word must appear in at least two documents to be considered\n",
    "    stop_words='english',  # Removing common English words (e.g., 'and', 'the', 'of') that don't contribute much to the meaning\n",
    "    strip_accents='unicode'  # Removing accents from characters for consistency\n",
    ")\n",
    "\n",
    "# Demonstrating the preprocessing and tokenization process with an example\n",
    "test_string = raw_train[0]  # Taking the first title from the training set as an example\n",
    "print(\"Example: \" + test_string + \"\\n\")\n",
    "# Showing the result of preprocessing (e.g., lowercasing, removing punctuation)\n",
    "print(\"Preprocessed: \" + vectorizer.build_preprocessor()(test_string) + \"\\n\")\n",
    "# Displaying the list of words (tokens) after splitting the preprocessed text\n",
    "print(\"Tokenized:\" + str(vectorizer.build_tokenizer()(test_string)) + \"\\n\")\n",
    "# Applying the full analyzer (preprocessing, tokenizing, and filtering stop words)\n",
    "print(\"Analyzed data string:\" + str(vectorizer.build_analyzer()(test_string)) + \"\\n\")\n",
    "\n",
    "# Processing the entire datasets to convert the raw text into a matrix of token counts\n",
    "X_train = vectorizer.fit_transform(raw_train)  # Learning the vocabulary and transforming the training set\n",
    "X_test = vectorizer.transform(raw_test)  # Transforming the test set based on the learned vocabulary\n",
    "\n",
    "# Printing the total number of tokens (unique words) found in the dataset\n",
    "print(\"Number of tokens: \" + str(len(vectorizer.get_feature_names_out())) + \"\\n\")\n",
    "# Displaying a slice of the tokens for inspection\n",
    "print(\"Extract of tokens:\")\n",
    "print(vectorizer.get_feature_names_out()[1000:1100])\n"
   ]
  },
  {
   "cell_type": "code",
   "execution_count": null,
   "metadata": {},
   "outputs": [],
   "source": [
    "# Enable plotting directly within the notebook\n",
    "%matplotlib inline\n",
    "\n",
    "# Import the Bernoulli Naive Bayes classifier from scikit-learn\n",
    "from sklearn.naive_bayes import BernoulliNB\n",
    "\n",
    "# Initialize the classifier\n",
    "nb = BernoulliNB()\n",
    "\n",
    "# Train the classifier on the training data\n",
    "nb.fit(X_train, y_train)\n",
    "\n",
    "# Predict the labels of the test set\n",
    "y_hat = nb.predict(X_test)\n",
    "\n",
    "# Import necessary tools for evaluation\n",
    "from sklearn import metrics\n",
    "import matplotlib.pyplot as plt\n",
    "\n",
    "# Define a function to plot the confusion matrix\n",
    "def plot_confusion_matrix(y_pred, y):\n",
    "    plt.imshow(metrics.confusion_matrix(y, y_pred), interpolation='nearest', cmap='gray')\n",
    "    plt.colorbar()\n",
    "    plt.ylabel('true value')\n",
    "    plt.xlabel('predicted value')\n",
    "    fig = plt.gcf()\n",
    "    fig.set_size_inches(9, 9)\n",
    "\n",
    "# Print the classification accuracy: the proportion of correctly predicted instances\n",
    "print(\"classification accuracy:\", metrics.accuracy_score(y_hat, y_test))\n",
    "\n",
    "# Call the function to plot the confusion matrix for the test predictions\n",
    "plot_confusion_matrix(y_hat, y_test)\n",
    "\n",
    "# Print a detailed classification report showing precision, recall, f1-score, and support for each class\n",
    "print(\"Classification Report:\")\n",
    "print(metrics.classification_report(y_hat, np.array(y_test)))"
   ]
  },
  {
   "cell_type": "markdown",
   "metadata": {},
   "source": [
    "**QUESTION:** Identify the three most simple classes.\n",
    "</div>"
   ]
  },
  {
   "cell_type": "code",
   "execution_count": 31,
   "metadata": {},
   "outputs": [],
   "source": [
    "#Save data for future use.\n",
    "import pickle\n",
    "ofname = open('NYT_data.pkl', 'wb')\n",
    "s = pickle.dump([X_train,y_train,X_test,y_test],ofname)\n",
    "ofname.close()"
   ]
  },
  {
   "cell_type": "code",
   "execution_count": null,
   "metadata": {},
   "outputs": [],
   "source": [
    "N = 5\n",
    "voc = vectorizer.get_feature_names_out()\n",
    "for i, label in enumerate(np.unique(y)):\n",
    "    topN = np.argsort(nb.feature_log_prob_[i])[-N:]\n",
    "    print('Code: ' + str(label) + ' Terms: ' + str([voc[j] for j in topN]))\n"
   ]
  },
  {
   "cell_type": "markdown",
   "metadata": {},
   "source": [
    "Let us check what would happen if we enrich the data set with the summary of the article."
   ]
  },
  {
   "cell_type": "code",
   "execution_count": 33,
   "metadata": {},
   "outputs": [],
   "source": [
    "raw_data = data['Title']+data['Summary']\n",
    "raw_train = raw_data[split]\n",
    "raw_test = raw_data[np.logical_not(split)]\n",
    "y = data['Topic_2digit']\n",
    "y_train = y[split]\n",
    "y_test = y[np.logical_not(split)]"
   ]
  },
  {
   "cell_type": "code",
   "execution_count": null,
   "metadata": {},
   "outputs": [],
   "source": [
    "# Let us tokenize the data\n",
    "from sklearn.feature_extraction.text import CountVectorizer\n",
    "\n",
    "vectorizer = CountVectorizer(min_df=2, \n",
    " stop_words='english', \n",
    " strip_accents='unicode')\n",
    "\n",
    "#example\n",
    "test_string = raw_train[0]\n",
    "print (\"Example: \" + test_string +\"\\n\")\n",
    "print (\"Preprocessed: \" + vectorizer.build_preprocessor()(test_string)+\"\\n\")\n",
    "print (\"Tokenized:\" + str(vectorizer.build_tokenizer()(test_string))+\"\\n\")\n",
    "print (\"Analyzed data string:\" + str(vectorizer.build_analyzer()(test_string))+\"\\n\")\n",
    "\n",
    "\n",
    "#Fit and convert data\n",
    "X_train = vectorizer.fit_transform(raw_train)\n",
    "X_test = vectorizer.transform(raw_test)\n",
    "\n",
    "print (\"\\n\")\n",
    "print (\"Number of tokens: \" + str(len(vectorizer.get_feature_names_out())) +\"\\n\")\n",
    "print (\"Extract of tokes:\")\n",
    "print( vectorizer.get_feature_names_out()[1000:1100])"
   ]
  },
  {
   "cell_type": "code",
   "execution_count": null,
   "metadata": {},
   "outputs": [],
   "source": [
    "from sklearn.naive_bayes import BernoulliNB\n",
    "nb = BernoulliNB()\n",
    "nb.fit(X_train,y_train)\n",
    "\n",
    "y_hat = nb.predict(X_test)\n",
    "from sklearn import metrics\n",
    "import matplotlib.pyplot as plt\n",
    "def plot_confusion_matrix(y_pred, y):\n",
    "    plt.imshow(metrics.confusion_matrix(y, y_pred), interpolation='nearest')\n",
    "    plt.colorbar()\n",
    "    plt.ylabel('true value')\n",
    "    plt.xlabel('predicted value')\n",
    "    fig = plt.gcf()\n",
    "    fig.set_size_inches(9,9)    \n",
    "    \n",
    "print (\"classification accuracy:\", metrics.accuracy_score(y_hat, y_test))\n",
    "plot_confusion_matrix(y_hat, y_test)\n",
    "print (\"Classification Report:\")\n",
    "print (metrics.classification_report(y_hat,np.array(y_test)))"
   ]
  },
  {
   "cell_type": "code",
   "execution_count": 36,
   "metadata": {},
   "outputs": [],
   "source": [
    "#Save data for future use.\n",
    "import pickle\n",
    "ofname = open('NYT_context_data.pkl', 'wb')\n",
    "s = pickle.dump([X_train,y_train,X_test,y_test],ofname)\n",
    "ofname.close()"
   ]
  },
  {
   "cell_type": "code",
   "execution_count": null,
   "metadata": {},
   "outputs": [],
   "source": [
    "#What are the top N most predictive features per class?\n",
    "N = 5\n",
    "voc = vectorizer.get_feature_names_out()\n",
    "for i, label in enumerate(np.unique(y)):\n",
    "    topN = np.argsort(nb.feature_log_prob_[i])[-N:]\n",
    "    print ('Code: '+ str(label) + ' Terms : '+ str([voc[i] for i in topN]))"
   ]
  },
  {
   "cell_type": "markdown",
   "metadata": {},
   "source": [
    "Observe that adding the small summary improves the recognition rate by $10\\%$. \n",
    "\n",
    "As a side note, Naive Bayes with these models creates a linear decision boundary. For this reason, sometimes NB is called a linear classifier."
   ]
  },
  {
   "cell_type": "markdown",
   "metadata": {},
   "source": [
    "## Support Vector Machines"
   ]
  },
  {
   "cell_type": "markdown",
   "metadata": {},
   "source": [
    "![](https://upload.wikimedia.org/wikipedia/commons/thumb/7/72/SVM_margin.png/300px-SVM_margin.png)"
   ]
  },
  {
   "cell_type": "markdown",
   "metadata": {},
   "source": [
    "Support Vector Machines (SVM) are a powerful method used in machine learning for classification tasks. They belong to a category of algorithms known as discriminative learning, where the goal is to find a decision boundary that separates different classes in the data.\n",
    "\n",
    "#### What Makes SVM Special?\n",
    "\n",
    "Unlike other linear models such as the perceptron or logistic regression, SVM offers a more robust approach to classification. Here's why:\n",
    "\n",
    "- **Explicit Boundary Modeling**: SVM focuses on finding the best possible boundary (or hyperplane in higher dimensions) that separates the classes. This boundary is chosen not just to separate the classes but to do so in a way that maximizes the margin between the closest points of the classes to the boundary. These closest points are known as support vectors, giving the algorithm its name.\n",
    "\n",
    "- **Versatility**: While the classical model for SVM is linear, it can be extended to handle non-linear classification using something called the kernel trick. This allows SVM to classify data that isn't linearly separable by transforming it into a higher-dimensional space where a linear separator does exist.\n",
    "\n",
    "#### The Intuition Behind SVM\n",
    "\n",
    "Imagine you're trying to draw a line that separates apples from oranges on a table. SVM aims to draw this line not just anywhere but in such a way that the smallest distance from the line to the nearest apple or orange is maximized. This ensures that the decision boundary is as far away from the closest points of each class as possible, providing a buffer that helps make the classification more robust to new data points.\n",
    "\n",
    "- **Maximizing the Margin**: The key idea is to find the widest possible \"street\" (margin) between the classes, with the \"edges\" of this street just touching the nearest points of each class. These points at the edge are the support vectors.\n",
    "\n",
    "- **Handling More Complex Data**: For data that can't be separated by a straight line, SVM uses the kernel trick to project the data into a higher-dimensional space where a linear separator is possible. This is like lifting the apples and oranges off the table into the air to find a plane that separates them.\n",
    "\n",
    "#### Conclusion\n",
    "\n",
    "SVM is a foundational tool in machine learning, known for its ability to create clear, well-defined boundaries between classes. Its ability to handle both linear and non-linear data makes it a versatile choice for a wide range of classification problems. Understanding the principles behind SVM allows for deeper insights into how machines can learn to distinguish between different categories of data, making it a crucial part of any machine learning toolkit.\n",
    "\n",
    "\n",
    "[Link SVM](https://www.youtube.com/watch?v=efR1C6CvhmE&ab_channel=StatQuestwithJoshStarmer)"
   ]
  },
  {
   "cell_type": "code",
   "execution_count": null,
   "metadata": {},
   "outputs": [],
   "source": [
    "%matplotlib inline\n",
    "%reset -f\n",
    "import numpy as np\n",
    "import matplotlib.pyplot as plt\n",
    "#from IPython.html.widgets import interact\n",
    "from ipywidgets import interact\n",
    "\n",
    "class HLA():\n",
    "    def __init__(self):\n",
    "        np.random.seed(1)\n",
    "        self.X = np.concatenate([1.25*np.random.randn(40,2),5+1.5*np.random.randn(40,2)]) \n",
    "        self.y = np.concatenate([np.ones((40,1)),-np.ones((40,1))])\n",
    "        plt.scatter(self.X[0:40,0],self.X[0:40,1],color='r')\n",
    "        plt.scatter(self.X[40:,0],self.X[40:,1],color='b') \n",
    "        delta = 0.025\n",
    "        xx = np.arange(-5.0, 10.0, delta)\n",
    "        yy = np.arange(-5.0, 10.0, delta)\n",
    "        XX, YY = np.meshgrid(xx, yy)\n",
    "        Xf = XX.flatten()\n",
    "        Yf = YY.flatten()\n",
    "        self.sz=XX.shape\n",
    "        self.data = np.concatenate([Xf[:,np.newaxis],Yf[:,np.newaxis]],axis=1);\n",
    "\n",
    "    def run(self,w0,w1,offset):\n",
    "        plt.close('all')\n",
    "        w=np.array([w0,w1])\n",
    "        w.shape=(2,1)\n",
    "        Z = self.data.dot(w)+offset\n",
    "        Z.shape=self.sz\n",
    "        plt.scatter(self.X[0:40,0],self.X[0:40,1],color='r')\n",
    "        plt.scatter(self.X[40:,0],self.X[40:,1],color='b')\n",
    "        plt.imshow(Z, interpolation='bilinear', origin='lower', extent=(-5,10,-5,10),alpha=0.3, vmin=-30, vmax=30)\n",
    "        XX = self.data[:,0].reshape(self.sz)\n",
    "        YY = self.data[:,1].reshape(self.sz)\n",
    "        plt.contour(XX,YY,Z,[0])\n",
    "        fig = plt.gcf()\n",
    "        fig.set_size_inches(9,9)\n",
    "   \n",
    "widget_hla = HLA()\n",
    "def decorator(w0,w1,offset):\n",
    "    widget_hla.run(w0,w1,offset)\n",
    "    \n",
    "\n",
    "interact(decorator, w0=(-10.,10.), w1=(-10.,10.), offset=(-20.,40.));\n",
    "# (code replicates the images, due to packages updates)"
   ]
  },
  {
   "cell_type": "markdown",
   "metadata": {},
   "source": [
    "**QUESTION:** Using the former widget, check manually the following configurations:\n",
    "\n",
    "* ${(w_0, w_1, \\text{offset}) = (-1.7, -3.1, 10)}$\n",
    "* ${(w_0, w_1, \\text{offset}) = (-3.7, -0.5, 10.3)}$\n",
    "* ${(w_0, w_1, \\text{offset}) = (-7.5, -3.2, 28.8)}$\n",
    "\n",
    "Which one of those configurations do you think yields a better boundary? Why?\n",
    "\n"
   ]
  },
  {
   "cell_type": "markdown",
   "metadata": {},
   "source": [
    "\n",
    "**INTUITION:** The Support Vector Machine classifer finds the boundary with maximum distance/**margin** to both classes.</div>"
   ]
  },
  {
   "cell_type": "markdown",
   "metadata": {},
   "source": [
    "Observations:\n",
    "- It implicitly models the notion of noise. One expects that the boundary with maximum margin will be robust to small perturbations in the data.\n",
    "- A maximum margin classifier has a unique solution in the separable case."
   ]
  },
  {
   "cell_type": "markdown",
   "metadata": {},
   "source": [
    "Let us check the result of fitting a SVM classifier using sklearn:"
   ]
  },
  {
   "cell_type": "code",
   "execution_count": null,
   "metadata": {},
   "outputs": [],
   "source": [
    "# Reset the global namespace in the notebook to start fresh\n",
    "%reset -f\n",
    "\n",
    "# Enable inline plotting for Jupyter notebooks\n",
    "%matplotlib inline\n",
    "\n",
    "# Import necessary libraries\n",
    "import numpy as np\n",
    "import matplotlib.pyplot as plt\n",
    "from sklearn import svm  # Import SVM model from scikit-learn\n",
    "\n",
    "# Define a class for the SVM example\n",
    "class svm_example():\n",
    "    def __init__(self):\n",
    "        '''Data creation: Generates synthetic data for classification'''\n",
    "        np.random.seed(1)  # Set seed for reproducibility\n",
    "        # Generate synthetic data: two clusters with normal distribution\n",
    "        self.X = np.concatenate([1.25*np.random.randn(40,2), 5+1.5*np.random.randn(40,2)])\n",
    "        # Generate labels: first 40 are 1, next 40 are -1\n",
    "        self.y = np.concatenate([np.ones((40,1)), -np.ones((40,1))])\n",
    "\n",
    "    def run(self):\n",
    "        '''Fit a linear SVM: Train an SVM classifier with a linear kernel'''\n",
    "        self.clf = svm.SVC(kernel='linear')  # Initialize the SVM with a linear kernel\n",
    "        self.clf.fit(self.X, self.y.ravel())  # Fit the SVM model with the data\n",
    "        \n",
    "    def display(self):\n",
    "        '''Display the decision boundary, margins, and support vectors'''\n",
    "        # Create a mesh grid for plotting decision boundary\n",
    "        delta = 0.25\n",
    "        xx = np.arange(-5.0, 10.0, delta)\n",
    "        yy = np.arange(-5.0, 10.0, delta)\n",
    "        XX, YY = np.meshgrid(xx, yy)\n",
    "        \n",
    "        # Prepare the grid points for prediction\n",
    "        Xf = XX.flatten()\n",
    "        Yf = YY.flatten()\n",
    "        sz = XX.shape\n",
    "        data = np.concatenate([Xf[:, np.newaxis], Yf[:, np.newaxis]], axis=1)\n",
    "        \n",
    "        # Predict the decision function value for each grid point\n",
    "        Z = self.clf.decision_function(data)\n",
    "        Z.shape = sz\n",
    "        \n",
    "        # Plot the data points: red for one class, blue for the other\n",
    "        plt.scatter(self.X[0:40, 0], self.X[0:40, 1], color='r')\n",
    "        plt.scatter(self.X[40:, 0], self.X[40:, 1], color='b')\n",
    "        \n",
    "        # Display the decision boundary and margins\n",
    "        plt.imshow(Z, interpolation='bilinear', origin='lower', extent=(-5,10,-5,10), alpha=0.3, vmin=-3, vmax=3)\n",
    "        plt.contour(XX, YY, Z, [-1, 0, 1], colors=['b', 'k', 'r'])  # Draw the margins and decision boundary\n",
    "        \n",
    "        # Enhance the plot\n",
    "        fig = plt.gcf()\n",
    "        fig.set_size_inches(9, 9)\n",
    "        \n",
    "        # Print the number of support vectors for each class\n",
    "        print('Number of support vectors: ' + str(np.sum(self.clf.n_support_)))\n",
    "        \n",
    "        # Highlight the support vectors on the plot\n",
    "        plt.scatter(self.clf.support_vectors_[:, 0], \n",
    "                    self.clf.support_vectors_[:, 1], \n",
    "                    s=120, \n",
    "                    facecolors='none', \n",
    "                    linewidths=2,\n",
    "                    zorder=10)\n",
    "        \n",
    "        # Print the coefficients of the decision function (w0, w1) and the offset\n",
    "        print('(w0,w1) = ' + str(10*self.clf.coef_[0]))\n",
    "        print('offset = ' + str(10*self.clf.intercept_[0]))\n",
    "        \n",
    "        # Return grid for further use if necessary\n",
    "        return XX, YY, Z\n",
    "\n",
    "# Create an instance of the svm_example class\n",
    "c = svm_example()\n",
    "c.run()  # Train the SVM model\n",
    "XX, YY, Z = c.display()  # Display the results"
   ]
  },
  {
   "cell_type": "markdown",
   "metadata": {},
   "source": [
    "Observe that there is a critical subset of data points. These are called **Support Vectors**. If any of those points disappear the boundary changes.  The decision boundary depends on the support vectors, thus we have to store them in our model."
   ]
  },
  {
   "cell_type": "markdown",
   "metadata": {},
   "source": [
    "Check the intuition in 3D:"
   ]
  },
  {
   "cell_type": "code",
   "execution_count": null,
   "metadata": {},
   "outputs": [],
   "source": [
    "from mpl_toolkits.mplot3d import Axes3D\n",
    "from matplotlib import cm\n",
    "from ipywidgets import interact\n",
    "\n",
    "np.random.seed(1)\n",
    "X = np.concatenate([1.25*np.random.randn(40,2),5+1.5*np.random.randn(40,2)]) \n",
    "y = np.concatenate([np.ones((40,1)),-np.ones((40,1))])\n",
    "def control3D(elevation,azimuth):\n",
    "    fig = plt.figure()\n",
    "    ax = fig.add_subplot(111, projection='3d')\n",
    "    fig.set_size_inches(12,12)\n",
    "    ax.plot_surface(XX,YY,Z,cmap=cm.coolwarm,alpha=0.3,linewidth=0)\n",
    "    ax.scatter(X[0:40,0],X[0:40,1],1,color='r')\n",
    "    ax.scatter(X[40:,0],X[40:,1],-1,color='b')\n",
    "    ax.contour(XX,YY,Z,[-1,0,1],colors=['b','k','r'])\n",
    "    ax.view_init(elev=elevation, azim=azimuth)\n",
    "\n",
    "#Ipython 2.0\n",
    "interact(control3D,elevation=(0.,90.),azimuth=(0,360))\n",
    "#Ipython 1.1\n",
    "#elevation = 45\n",
    "#azimuth = 180\n",
    "#control3D(elevation,azimuth)"
   ]
  },
  {
   "cell_type": "markdown",
   "metadata": {},
   "source": [
    "**QUESTIONS:**\n",
    "<li> Set the azimuth to $113$ and elevation to $0$. Observe the data points and the relative position of the hyperplane. \n",
    "<li> Change the elevation to $90$. Describe this projection.\n",
    "</div>"
   ]
  },
  {
   "cell_type": "markdown",
   "metadata": {},
   "source": [
    "#### 10.2.1 (Theory) Modeling the Support Vector Machine."
   ]
  },
  {
   "cell_type": "markdown",
   "metadata": {},
   "source": [
    "##### Geometry of the hyperplane\n",
    "A hyperplane in ${\\bf R}^d$ is defined as an affine combination of the variables: $\\pi\\equiv a^Tx + b = 0$. \n",
    "\n",
    "Features:\n",
    "\n",
    "+ A hyperplane splits the space in two half-spaces. The evaluation of the equation of the hyperplane on any element of one of the half-space is a positive value. It is a negative value for all the elements in the other half-space.\n",
    "+ The distance of a point $x \\in{\\bf R}^d$ to the hyperplane $\\pi$ is \n",
    "$$d(x,\\pi)=\\frac{a^Tx+b}{\\|a\\|_2}$$\n",
    "\n",
    "##### Modeling the separating hyperplane\n",
    "Given a binary classification problem with training data $\\mathcal{D}=\\{(x_i,y_i)\\},\\; i=1\\dots N, \\; y_i\\in\\{+1,-1\\} $. Consider $\\mathcal{S} \\subseteq \\mathcal{D}$ the subset of all data points belonging to class $+1$, $\\mathcal{S}=\\{x_i | y_i=+1\\}$, and $\\mathcal{R}=\\{x_i | y_i=-1\\}$ its complement. \n",
    "\n",
    "Then the problem of finding a separating hyperplane consists of fulfilling the following constraints\n",
    "\n",
    "$$a^Ts_i+b>0\\; \\text{and}\\; a^Tr_i+b<0 \\quad \\forall s_i\\in\\mathcal{S}, r_i\\in\\mathcal{R}.$$\n",
    "\n",
    "Note the strict inequalities in the formulation. Informally, we can consider the smallest satisfied constraint. And observe that the rest must be satisfied with a larger value. Thus, we can arbitrarily set that value to 1 and rewrite the problem as $$a^Ts_i+b\\geq 1\\; \\text{and}\\; a^Tr_i+b\\leq -1.$$\n",
    "\n",
    "This is a *feasibility problem* and it is usually written in the following way in optimization standard notation\n",
    "\n",
    "$$\n",
    "\\begin{align}\n",
    "\\text{minimize} & 1\\\\\n",
    "\\text{subject to} & a^T r_i + b \\leq -1,\\; \\forall r_i \\in \\mathcal{R}\\\\\n",
    "& a^T s_i + b \\geq 1\\; \\forall s_i \\in \\mathcal{S}\n",
    "\\end{align}\n",
    "$$\n",
    "\n",
    "or in a compact way\n",
    "\n",
    "$$\n",
    "\\begin{align}\n",
    "\\text{minimize} & 1\\\\\n",
    "\\text{subject to} & y_i (a^T x_i + b) \\geq 1,\\; \\forall x_i \\in \\mathcal{D}\\\\\n",
    "\\end{align}\n",
    "$$\n",
    "\n",
    "The solution of this problem is not unique, e.g. remember all the parameters of the 'Human Learning Algorithm'.  \n",
    "\n",
    "##### The maximum margin hyperplane\n",
    "\n",
    "Selecting the maximum margin hyperplane requires to add a new constraint to our problem. Remember from the geometry of the hyperplane that the distance of any point to a hyperplane is given by $d(x,\\pi)=\\frac{a^Tx+b}{\\|a\\|_2}$. \n",
    "\n",
    "Recall that we want positive data to be beyond value 1 and negative data below -1. Thus, what is the distance value we want to maximize?\n",
    "\n",
    "The positive point closest to the boundary is at $1/\\|a\\|_2$ and the negative point closest to the boundary data point is also at $1/\\|a\\|_2$. Thus data points from different classes are at least $2/\\|a\\|_2$ apart. \n",
    "\n",
    "Recall that our goal is to find the separating hyperplane with maximum margin, i.e. with maximum distance among elements from different classes. Thus, we can complete the former formulation with our last requirement as follows\n",
    "\n",
    "$$\n",
    "\\begin{align}\n",
    "\\text{maximize} & 2/\\|a\\|_2 \\\\\n",
    "\\text{subject to} & y_i (a^T x_i + b) \\geq 1,\\; \\forall x_i \\in \\mathcal{D}\\\\\n",
    "\\end{align}\n",
    "$$\n",
    "\n",
    "or equivalently,\n",
    "\n",
    "$$\n",
    "\\begin{align}\n",
    "\\text{minimize} & \\|a\\|_2/2 \\\\\n",
    "\\text{subject to} & y_i (a^T x_i + b) \\geq 1,\\; \\forall x_i \\in \\mathcal{D}\\\\\n",
    "\\end{align}\n",
    "$$\n",
    "\n",
    "This formulation has a solution as long as the problem is linearly separable.\n",
    "\n",
    "##### Dealing with the non-separable case\n",
    "\n",
    "In order to deal with misclassifications, we are going to introduce a new set of variables $\\xi_i$, that represents the amount of violation in the $i-th$ constraint. If the constraint is already satisfied, then $\\xi_i=0$, and $\\xi_i>0$ otherwise. Because $\\xi_i$ is related to the errors, we would like to keep this amount as close so zero as possible. This makes us introduce a element in the objective trading-off with the maximum margin.\n",
    "\n",
    "The new model becomes\n",
    "\n",
    "$$\n",
    "\\begin{align}\n",
    "\\text{minimize} & \\|a\\|_2/2 + C \\sum\\limits_{i=1}^N \\xi_i\\\\\n",
    "\\text{subject to} & y_i (a^T x_i + b) \\geq 1 - \\xi_i,\\; i=1\\dots N\\\\\n",
    "& \\xi_i\\geq 0\n",
    "\\end{align}\n",
    "$$\n",
    "\n",
    "where $C$ is the trade-off parameter that roughly balances margin and misclassification rate. This formulation is also called **soft-margin SVM**.\n",
    "\n",
    "**Take home ideas:**\n",
    "<ul>\n",
    "<li> Classical SVM fits a hyperplane separating boundary. </li>\n",
    "<li> The hyperplane is defined to achieve the maximum margin. </li>\n",
    "<li> If the problem is not linearly separable a new term related to the misclassification performance is introduced that trades-off with the margin. This trade-off is governed by parameter $C$ (or $\\nu$ in $\\nu$-SVM). </li>\n",
    "</ul>\n",
    "</div>"
   ]
  },
  {
   "cell_type": "markdown",
   "metadata": {},
   "source": [
    "#### The New York Times problem again\n",
    "\n",
    "Let us now apply our knowledge to the New York Times headlines topic prediction. "
   ]
  },
  {
   "cell_type": "code",
   "execution_count": 66,
   "metadata": {},
   "outputs": [
    {
     "name": "stdout",
     "output_type": "stream",
     "text": [
      "Loading ok.\n"
     ]
    },
    {
     "data": {
      "text/html": [
       "<style>#sk-container-id-3 {color: black;}#sk-container-id-3 pre{padding: 0;}#sk-container-id-3 div.sk-toggleable {background-color: white;}#sk-container-id-3 label.sk-toggleable__label {cursor: pointer;display: block;width: 100%;margin-bottom: 0;padding: 0.3em;box-sizing: border-box;text-align: center;}#sk-container-id-3 label.sk-toggleable__label-arrow:before {content: \"▸\";float: left;margin-right: 0.25em;color: #696969;}#sk-container-id-3 label.sk-toggleable__label-arrow:hover:before {color: black;}#sk-container-id-3 div.sk-estimator:hover label.sk-toggleable__label-arrow:before {color: black;}#sk-container-id-3 div.sk-toggleable__content {max-height: 0;max-width: 0;overflow: hidden;text-align: left;background-color: #f0f8ff;}#sk-container-id-3 div.sk-toggleable__content pre {margin: 0.2em;color: black;border-radius: 0.25em;background-color: #f0f8ff;}#sk-container-id-3 input.sk-toggleable__control:checked~div.sk-toggleable__content {max-height: 200px;max-width: 100%;overflow: auto;}#sk-container-id-3 input.sk-toggleable__control:checked~label.sk-toggleable__label-arrow:before {content: \"▾\";}#sk-container-id-3 div.sk-estimator input.sk-toggleable__control:checked~label.sk-toggleable__label {background-color: #d4ebff;}#sk-container-id-3 div.sk-label input.sk-toggleable__control:checked~label.sk-toggleable__label {background-color: #d4ebff;}#sk-container-id-3 input.sk-hidden--visually {border: 0;clip: rect(1px 1px 1px 1px);clip: rect(1px, 1px, 1px, 1px);height: 1px;margin: -1px;overflow: hidden;padding: 0;position: absolute;width: 1px;}#sk-container-id-3 div.sk-estimator {font-family: monospace;background-color: #f0f8ff;border: 1px dotted black;border-radius: 0.25em;box-sizing: border-box;margin-bottom: 0.5em;}#sk-container-id-3 div.sk-estimator:hover {background-color: #d4ebff;}#sk-container-id-3 div.sk-parallel-item::after {content: \"\";width: 100%;border-bottom: 1px solid gray;flex-grow: 1;}#sk-container-id-3 div.sk-label:hover label.sk-toggleable__label {background-color: #d4ebff;}#sk-container-id-3 div.sk-serial::before {content: \"\";position: absolute;border-left: 1px solid gray;box-sizing: border-box;top: 0;bottom: 0;left: 50%;z-index: 0;}#sk-container-id-3 div.sk-serial {display: flex;flex-direction: column;align-items: center;background-color: white;padding-right: 0.2em;padding-left: 0.2em;position: relative;}#sk-container-id-3 div.sk-item {position: relative;z-index: 1;}#sk-container-id-3 div.sk-parallel {display: flex;align-items: stretch;justify-content: center;background-color: white;position: relative;}#sk-container-id-3 div.sk-item::before, #sk-container-id-3 div.sk-parallel-item::before {content: \"\";position: absolute;border-left: 1px solid gray;box-sizing: border-box;top: 0;bottom: 0;left: 50%;z-index: -1;}#sk-container-id-3 div.sk-parallel-item {display: flex;flex-direction: column;z-index: 1;position: relative;background-color: white;}#sk-container-id-3 div.sk-parallel-item:first-child::after {align-self: flex-end;width: 50%;}#sk-container-id-3 div.sk-parallel-item:last-child::after {align-self: flex-start;width: 50%;}#sk-container-id-3 div.sk-parallel-item:only-child::after {width: 0;}#sk-container-id-3 div.sk-dashed-wrapped {border: 1px dashed gray;margin: 0 0.4em 0.5em 0.4em;box-sizing: border-box;padding-bottom: 0.4em;background-color: white;}#sk-container-id-3 div.sk-label label {font-family: monospace;font-weight: bold;display: inline-block;line-height: 1.2em;}#sk-container-id-3 div.sk-label-container {text-align: center;}#sk-container-id-3 div.sk-container {/* jupyter's `normalize.less` sets `[hidden] { display: none; }` but bootstrap.min.css set `[hidden] { display: none !important; }` so we also need the `!important` here to be able to override the default hidden behavior on the sphinx rendered scikit-learn.org. See: https://github.com/scikit-learn/scikit-learn/issues/21755 */display: inline-block !important;position: relative;}#sk-container-id-3 div.sk-text-repr-fallback {display: none;}</style><div id=\"sk-container-id-3\" class=\"sk-top-container\"><div class=\"sk-text-repr-fallback\"><pre>LinearSVC()</pre><b>In a Jupyter environment, please rerun this cell to show the HTML representation or trust the notebook. <br />On GitHub, the HTML representation is unable to render, please try loading this page with nbviewer.org.</b></div><div class=\"sk-container\" hidden><div class=\"sk-item\"><div class=\"sk-estimator sk-toggleable\"><input class=\"sk-toggleable__control sk-hidden--visually\" id=\"sk-estimator-id-5\" type=\"checkbox\" checked><label for=\"sk-estimator-id-5\" class=\"sk-toggleable__label sk-toggleable__label-arrow\">LinearSVC</label><div class=\"sk-toggleable__content\"><pre>LinearSVC()</pre></div></div></div></div></div>"
      ],
      "text/plain": [
       "LinearSVC()"
      ]
     },
     "execution_count": 66,
     "metadata": {},
     "output_type": "execute_result"
    }
   ],
   "source": [
    "# Recover NTY data\n",
    "import pickle\n",
    "from scipy import sparse\n",
    "import numpy as np\n",
    "\n",
    "# Load the data\n",
    "with open('NYT_data.pkl', 'rb') as fname:\n",
    "    data = pickle.load(fname)\n",
    "X_train = data[0]\n",
    "y_train = data[1]\n",
    "X_test = data[2]\n",
    "y_test = data[3]\n",
    "print('Loading ok.')\n",
    "\n",
    "# Ensure target arrays are properly formatted\n",
    "y_train = np.array(y_train).ravel()\n",
    "y_test = np.array(y_test).ravel()\n",
    "\n",
    "# Train the model\n",
    "from sklearn import svm\n",
    "clf = svm.LinearSVC()\n",
    "clf.fit(X_train, y_train)"
   ]
  },
  {
   "cell_type": "code",
   "execution_count": 68,
   "metadata": {},
   "outputs": [
    {
     "name": "stdout",
     "output_type": "stream",
     "text": [
      "classification accuracy: 0.5318120805369128\n",
      "Classification Report:\n",
      "              precision    recall  f1-score   support\n",
      "\n",
      "           1       0.65      0.43      0.52       173\n",
      "           2       0.33      0.51      0.40       183\n",
      "           3       0.65      0.65      0.65       440\n",
      "           4       0.20      0.38      0.26        16\n",
      "           5       0.48      0.47      0.47       187\n",
      "           6       0.69      0.64      0.66       212\n",
      "           7       0.38      0.33      0.35        63\n",
      "           8       0.58      0.57      0.58        74\n",
      "          10       0.44      0.42      0.43       132\n",
      "          12       0.47      0.41      0.44       493\n",
      "          13       0.49      0.44      0.46        48\n",
      "          14       0.26      0.42      0.32        90\n",
      "          15       0.26      0.31      0.29       277\n",
      "          16       0.56      0.58      0.57      1290\n",
      "          17       0.38      0.45      0.41       120\n",
      "          18       0.32      0.24      0.28        33\n",
      "          19       0.62      0.62      0.62      1487\n",
      "          20       0.63      0.57      0.60      1047\n",
      "          21       0.29      0.39      0.33        51\n",
      "          24       0.54      0.46      0.50       175\n",
      "          26       0.51      0.56      0.53       174\n",
      "          27       0.14      0.16      0.15        25\n",
      "          28       0.33      0.28      0.30       202\n",
      "          29       0.57      0.44      0.50       297\n",
      "          30       0.64      0.73      0.68        56\n",
      "          31       0.42      0.59      0.49        76\n",
      "          99       0.00      0.00      0.00        29\n",
      "\n",
      "    accuracy                           0.53      7450\n",
      "   macro avg       0.44      0.45      0.44      7450\n",
      "weighted avg       0.54      0.53      0.53      7450\n",
      "\n"
     ]
    },
    {
     "data": {
      "image/png": "[encoded data removed]",
      "text/plain": [
       "<Figure size 900x900 with 2 Axes>"
      ]
     },
     "metadata": {},
     "output_type": "display_data"
    }
   ],
   "source": [
    "y_hat = clf.predict(X_test)\n",
    "from sklearn import metrics\n",
    "import matplotlib.pyplot as plt\n",
    "def plot_confusion_matrix(y_pred, y):\n",
    "    plt.imshow(metrics.confusion_matrix(y, y_pred), interpolation='nearest')\n",
    "    plt.colorbar()\n",
    "    plt.ylabel('true value')\n",
    "    plt.xlabel('predicted value')\n",
    "    fig = plt.gcf()\n",
    "    fig.set_size_inches(9,9)    \n",
    "    \n",
    "print (\"classification accuracy:\", metrics.accuracy_score(y_hat, y_test))\n",
    "plot_confusion_matrix(y_hat, y_test)\n",
    "print (\"Classification Report:\")\n",
    "print (metrics.classification_report(y_hat,np.array(y_test)))"
   ]
  },
  {
   "cell_type": "markdown",
   "metadata": {},
   "source": [
    "Using the default parameters we can improve the recognition rate by $10\\%$. However we can not check the most important words. Can we find a better trade-off?"
   ]
  },
  {
   "cell_type": "code",
   "execution_count": 69,
   "metadata": {},
   "outputs": [
    {
     "data": {
      "text/html": [
       "<style>#sk-container-id-4 {color: black;}#sk-container-id-4 pre{padding: 0;}#sk-container-id-4 div.sk-toggleable {background-color: white;}#sk-container-id-4 label.sk-toggleable__label {cursor: pointer;display: block;width: 100%;margin-bottom: 0;padding: 0.3em;box-sizing: border-box;text-align: center;}#sk-container-id-4 label.sk-toggleable__label-arrow:before {content: \"▸\";float: left;margin-right: 0.25em;color: #696969;}#sk-container-id-4 label.sk-toggleable__label-arrow:hover:before {color: black;}#sk-container-id-4 div.sk-estimator:hover label.sk-toggleable__label-arrow:before {color: black;}#sk-container-id-4 div.sk-toggleable__content {max-height: 0;max-width: 0;overflow: hidden;text-align: left;background-color: #f0f8ff;}#sk-container-id-4 div.sk-toggleable__content pre {margin: 0.2em;color: black;border-radius: 0.25em;background-color: #f0f8ff;}#sk-container-id-4 input.sk-toggleable__control:checked~div.sk-toggleable__content {max-height: 200px;max-width: 100%;overflow: auto;}#sk-container-id-4 input.sk-toggleable__control:checked~label.sk-toggleable__label-arrow:before {content: \"▾\";}#sk-container-id-4 div.sk-estimator input.sk-toggleable__control:checked~label.sk-toggleable__label {background-color: #d4ebff;}#sk-container-id-4 div.sk-label input.sk-toggleable__control:checked~label.sk-toggleable__label {background-color: #d4ebff;}#sk-container-id-4 input.sk-hidden--visually {border: 0;clip: rect(1px 1px 1px 1px);clip: rect(1px, 1px, 1px, 1px);height: 1px;margin: -1px;overflow: hidden;padding: 0;position: absolute;width: 1px;}#sk-container-id-4 div.sk-estimator {font-family: monospace;background-color: #f0f8ff;border: 1px dotted black;border-radius: 0.25em;box-sizing: border-box;margin-bottom: 0.5em;}#sk-container-id-4 div.sk-estimator:hover {background-color: #d4ebff;}#sk-container-id-4 div.sk-parallel-item::after {content: \"\";width: 100%;border-bottom: 1px solid gray;flex-grow: 1;}#sk-container-id-4 div.sk-label:hover label.sk-toggleable__label {background-color: #d4ebff;}#sk-container-id-4 div.sk-serial::before {content: \"\";position: absolute;border-left: 1px solid gray;box-sizing: border-box;top: 0;bottom: 0;left: 50%;z-index: 0;}#sk-container-id-4 div.sk-serial {display: flex;flex-direction: column;align-items: center;background-color: white;padding-right: 0.2em;padding-left: 0.2em;position: relative;}#sk-container-id-4 div.sk-item {position: relative;z-index: 1;}#sk-container-id-4 div.sk-parallel {display: flex;align-items: stretch;justify-content: center;background-color: white;position: relative;}#sk-container-id-4 div.sk-item::before, #sk-container-id-4 div.sk-parallel-item::before {content: \"\";position: absolute;border-left: 1px solid gray;box-sizing: border-box;top: 0;bottom: 0;left: 50%;z-index: -1;}#sk-container-id-4 div.sk-parallel-item {display: flex;flex-direction: column;z-index: 1;position: relative;background-color: white;}#sk-container-id-4 div.sk-parallel-item:first-child::after {align-self: flex-end;width: 50%;}#sk-container-id-4 div.sk-parallel-item:last-child::after {align-self: flex-start;width: 50%;}#sk-container-id-4 div.sk-parallel-item:only-child::after {width: 0;}#sk-container-id-4 div.sk-dashed-wrapped {border: 1px dashed gray;margin: 0 0.4em 0.5em 0.4em;box-sizing: border-box;padding-bottom: 0.4em;background-color: white;}#sk-container-id-4 div.sk-label label {font-family: monospace;font-weight: bold;display: inline-block;line-height: 1.2em;}#sk-container-id-4 div.sk-label-container {text-align: center;}#sk-container-id-4 div.sk-container {/* jupyter's `normalize.less` sets `[hidden] { display: none; }` but bootstrap.min.css set `[hidden] { display: none !important; }` so we also need the `!important` here to be able to override the default hidden behavior on the sphinx rendered scikit-learn.org. See: https://github.com/scikit-learn/scikit-learn/issues/21755 */display: inline-block !important;position: relative;}#sk-container-id-4 div.sk-text-repr-fallback {display: none;}</style><div id=\"sk-container-id-4\" class=\"sk-top-container\"><div class=\"sk-text-repr-fallback\"><pre>GridSearchCV(estimator=LinearSVC(),\n",
       "             param_grid={&#x27;C&#x27;: [0.01, 0.05, 0.1, 0.5, 1, 10]})</pre><b>In a Jupyter environment, please rerun this cell to show the HTML representation or trust the notebook. <br />On GitHub, the HTML representation is unable to render, please try loading this page with nbviewer.org.</b></div><div class=\"sk-container\" hidden><div class=\"sk-item sk-dashed-wrapped\"><div class=\"sk-label-container\"><div class=\"sk-label sk-toggleable\"><input class=\"sk-toggleable__control sk-hidden--visually\" id=\"sk-estimator-id-6\" type=\"checkbox\" ><label for=\"sk-estimator-id-6\" class=\"sk-toggleable__label sk-toggleable__label-arrow\">GridSearchCV</label><div class=\"sk-toggleable__content\"><pre>GridSearchCV(estimator=LinearSVC(),\n",
       "             param_grid={&#x27;C&#x27;: [0.01, 0.05, 0.1, 0.5, 1, 10]})</pre></div></div></div><div class=\"sk-parallel\"><div class=\"sk-parallel-item\"><div class=\"sk-item\"><div class=\"sk-label-container\"><div class=\"sk-label sk-toggleable\"><input class=\"sk-toggleable__control sk-hidden--visually\" id=\"sk-estimator-id-7\" type=\"checkbox\" ><label for=\"sk-estimator-id-7\" class=\"sk-toggleable__label sk-toggleable__label-arrow\">estimator: LinearSVC</label><div class=\"sk-toggleable__content\"><pre>LinearSVC()</pre></div></div></div><div class=\"sk-serial\"><div class=\"sk-item\"><div class=\"sk-estimator sk-toggleable\"><input class=\"sk-toggleable__control sk-hidden--visually\" id=\"sk-estimator-id-8\" type=\"checkbox\" ><label for=\"sk-estimator-id-8\" class=\"sk-toggleable__label sk-toggleable__label-arrow\">LinearSVC</label><div class=\"sk-toggleable__content\"><pre>LinearSVC()</pre></div></div></div></div></div></div></div></div></div></div>"
      ],
      "text/plain": [
       "GridSearchCV(estimator=LinearSVC(),\n",
       "             param_grid={'C': [0.01, 0.05, 0.1, 0.5, 1, 10]})"
      ]
     },
     "execution_count": 69,
     "metadata": {},
     "output_type": "execute_result"
    }
   ],
   "source": [
    "# Importing necessary libraries for model selection\n",
    "from sklearn import model_selection\n",
    "from sklearn import svm\n",
    "\n",
    "# Defining the parameter grid: \n",
    "# 'C' is a regularization parameter for LinearSVC. It controls the trade off between achieving a low training error and a \n",
    "# low testing error (generalization).\n",
    "# A smaller 'C' value leads to a smoother decision boundary (less fitting to the training data), \n",
    "# while a larger 'C' encourages the model to classify all training examples correctly by giving the model more flexibility.\n",
    "# Here, we're defining a range of 'C' values to try out with GridSearchCV to find the best one.\n",
    "parameters = {'C': [0.01, 0.05, 0.1, 0.5, 1, 10]}\n",
    "\n",
    "# Initializing the LinearSVC model\n",
    "svc = svm.LinearSVC()\n",
    "\n",
    "# Setting up GridSearchCV:\n",
    "# 'svc' is the SVM model with a linear kernel to be trained.\n",
    "# 'parameters' contains the grid of parameters ('C' values here) we want to try out.\n",
    "# GridSearchCV will systematically work through the combinations of parameters (different 'C' values),\n",
    "# train the model for each combination, and evaluate its performance.\n",
    "clf = model_selection.GridSearchCV(svc, parameters)\n",
    "\n",
    "# Fitting GridSearchCV:\n",
    "# This will train the LinearSVC model multiple times with the different 'C' values specified in 'parameters'.\n",
    "# For each 'C' value, it uses cross-validation to evaluate the model's performance.\n",
    "# Cross-validation is a technique for assessing how the results of a statistical analysis will generalize to\n",
    "# an independent data set.\n",
    "# It does this by partitioning the original training data set into a training set to train the model,\n",
    "# and a validation set to evaluate it. This process is repeated for each 'C' value.\n",
    "clf.fit(X_train, y_train.ravel())\n",
    "\n",
    "# After .fit() completes, clf (our GridSearchCV object) will contain a lot of information:\n",
    "# - The best 'C' value found.\n",
    "# - The model fitted with the best 'C' value.\n",
    "# - The scores or performance metrics for each 'C' value tried."
   ]
  },
  {
   "cell_type": "code",
   "execution_count": 70,
   "metadata": {
    "scrolled": false
   },
   "outputs": [
    {
     "name": "stdout",
     "output_type": "stream",
     "text": [
      "The best parameterization is {'C': 0.1}\n",
      "The achieved score is 0.6021027654651043\n",
      "Checking the rest of the scores \n",
      "\n",
      "[0.54049316 0.5961241  0.60210277 0.58391256 0.56919918 0.50915823]\n"
     ]
    },
    {
     "data": {
      "text/plain": [
       "[Text(-1.0, 0, '0.01'),\n",
       " Text(0.0, 0, '0.05'),\n",
       " Text(1.0, 0, '0.1'),\n",
       " Text(2.0, 0, '0.5'),\n",
       " Text(3.0, 0, '1'),\n",
       " Text(4.0, 0, '10'),\n",
       " Text(5.0, 0, ''),\n",
       " Text(6.0, 0, '')]"
      ]
     },
     "execution_count": 70,
     "metadata": {},
     "output_type": "execute_result"
    },
    {
     "data": {
      "image/png": "[encoded data removed]",
      "text/plain": [
       "<Figure size 640x480 with 1 Axes>"
      ]
     },
     "metadata": {},
     "output_type": "display_data"
    }
   ],
   "source": [
    "print ('The best parameterization is ' + str(clf.best_params_))\n",
    "print ('The achieved score is ' + str(clf.best_score_))\n",
    "\n",
    "print ('Checking the rest of the scores \\n')\n",
    "import matplotlib.pyplot as plt\n",
    "print(clf.cv_results_['mean_test_score'])\n",
    "\n",
    "plt.plot(clf.cv_results_['mean_test_score'],'r',marker='o')\n",
    "ax = plt.gca()\n",
    "ax.set_xticklabels([0.01, 0.05, 0.1, 0.5, 1, 10])    "
   ]
  },
  {
   "cell_type": "markdown",
   "metadata": {},
   "source": [
    "## Understanding Best Parametrization and Achieved Score in GridSearchCV"
   ]
  },
  {
   "cell_type": "markdown",
   "metadata": {},
   "source": [
    "When performing a grid search in machine learning using `GridSearchCV`, the goal is to find the best parameters for a model that result in the highest performance score. Here's what these terms mean:\n",
    "\n",
    "### Best Parametrization\n",
    "\n",
    "- **Best Parametrization**: This refers to the set of parameters that gave the best results after the grid search has been completed. In the context of an SVM with a `C` parameter, it indicates the value of `C` that led to the best model performance. For example, if `GridSearchCV` returns `{'C': 1}`, it means that using `C=1` for the SVM resulted in the most accurate predictions during the cross-validation process.\n",
    "\n",
    "### Achieved Score\n",
    "\n",
    "- **Achieved Score**: After finding the best parametrization, `GridSearchCV` also provides the best score that was achieved with this parameter. This score is a number that reflects how well the model with the best parameters is performing. The specific meaning of the score depends on the scoring method used (e.g., accuracy, precision, recall, F1 score). For instance, if the score is `0.60212765`, and we are using accuracy as our scoring metric, it indicates that the model with the best parameter (`C=1`) was able to correctly predict the class labels for approximately 60.21% of the cross-validated dataset.\n",
    "\n",
    "### Putting It All Together\n",
    "\n",
    "The process of using `GridSearchCV` not only helps in tuning the model to find the best settings but also gives us an estimate of how well the model is likely to perform on unseen data. It's important to look at both the best parameters and the achieved score to understand the potential effectiveness of your model.\n"
   ]
  },
  {
   "cell_type": "code",
   "execution_count": 71,
   "metadata": {},
   "outputs": [
    {
     "name": "stdout",
     "output_type": "stream",
     "text": [
      "classification accuracy: 0.5675167785234899\n",
      "Classification Report:\n",
      "              precision    recall  f1-score   support\n",
      "\n",
      "           1       0.63      0.50      0.56       141\n",
      "           2       0.31      0.57      0.40       152\n",
      "           3       0.72      0.68      0.70       461\n",
      "           4       0.20      0.43      0.27        14\n",
      "           5       0.49      0.58      0.54       156\n",
      "           6       0.73      0.69      0.71       210\n",
      "           7       0.50      0.58      0.54        48\n",
      "           8       0.67      0.70      0.68        69\n",
      "          10       0.46      0.49      0.47       117\n",
      "          12       0.50      0.42      0.46       527\n",
      "          13       0.44      0.56      0.49        34\n",
      "          14       0.24      0.57      0.34        61\n",
      "          15       0.30      0.40      0.34       245\n",
      "          16       0.61      0.59      0.60      1378\n",
      "          17       0.45      0.54      0.49       118\n",
      "          18       0.28      0.30      0.29        23\n",
      "          19       0.67      0.58      0.62      1712\n",
      "          20       0.69      0.60      0.64      1078\n",
      "          21       0.30      0.55      0.39        38\n",
      "          24       0.54      0.54      0.54       153\n",
      "          26       0.47      0.59      0.52       152\n",
      "          27       0.14      0.67      0.24         6\n",
      "          28       0.34      0.38      0.36       151\n",
      "          29       0.66      0.52      0.58       294\n",
      "          30       0.62      0.71      0.67        56\n",
      "          31       0.36      0.75      0.48        51\n",
      "          99       0.00      0.00      0.00         5\n",
      "\n",
      "    accuracy                           0.57      7450\n",
      "   macro avg       0.46      0.54      0.48      7450\n",
      "weighted avg       0.60      0.57      0.58      7450\n",
      "\n"
     ]
    },
    {
     "data": {
      "image/png": "[encoded data removed]",
      "text/plain": [
       "<Figure size 900x900 with 2 Axes>"
      ]
     },
     "metadata": {},
     "output_type": "display_data"
    }
   ],
   "source": [
    "y_hat = clf.predict(X_test)\n",
    "from sklearn import metrics\n",
    "import matplotlib.pyplot as plt\n",
    "def plot_confusion_matrix(y_pred, y):\n",
    "    plt.imshow(metrics.confusion_matrix(y, y_pred), interpolation='nearest')\n",
    "    plt.colorbar()\n",
    "    plt.ylabel('true value')\n",
    "    plt.xlabel('predicted value')\n",
    "    fig = plt.gcf()\n",
    "    fig.set_size_inches(9,9)    \n",
    "    \n",
    "print (\"classification accuracy:\", metrics.accuracy_score(y_hat, np.array(y_test)))\n",
    "plot_confusion_matrix(y_hat, np.array(y_test))\n",
    "print (\"Classification Report:\")\n",
    "print (metrics.classification_report(y_hat,np.array(y_test)))"
   ]
  },
  {
   "cell_type": "markdown",
   "metadata": {},
   "source": [
    "# FULL SCOPE EXERCISE (Same as in another Jupyter)"
   ]
  },
  {
   "cell_type": "markdown",
   "metadata": {},
   "source": [
    "## Load Data"
   ]
  },
  {
   "cell_type": "code",
   "execution_count": 72,
   "metadata": {},
   "outputs": [
    {
     "name": "stdout",
     "output_type": "stream",
     "text": [
      "cancer.keys(): \n",
      "dict_keys(['data', 'target', 'frame', 'target_names', 'DESCR', 'feature_names', 'filename', 'data_module'])\n",
      "['malignant' 'benign']\n"
     ]
    },
    {
     "data": {
      "text/html": [
       "<div>\n",
       "<style scoped>\n",
       "    .dataframe tbody tr th:only-of-type {\n",
       "        vertical-align: middle;\n",
       "    }\n",
       "\n",
       "    .dataframe tbody tr th {\n",
       "        vertical-align: top;\n",
       "    }\n",
       "\n",
       "    .dataframe thead th {\n",
       "        text-align: right;\n",
       "    }\n",
       "</style>\n",
       "<table border=\"1\" class=\"dataframe\">\n",
       "  <thead>\n",
       "    <tr style=\"text-align: right;\">\n",
       "      <th></th>\n",
       "      <th>mean radius</th>\n",
       "      <th>mean texture</th>\n",
       "      <th>mean perimeter</th>\n",
       "      <th>mean area</th>\n",
       "      <th>mean smoothness</th>\n",
       "      <th>mean compactness</th>\n",
       "      <th>mean concavity</th>\n",
       "      <th>mean concave points</th>\n",
       "      <th>mean symmetry</th>\n",
       "      <th>mean fractal dimension</th>\n",
       "      <th>...</th>\n",
       "      <th>worst radius</th>\n",
       "      <th>worst texture</th>\n",
       "      <th>worst perimeter</th>\n",
       "      <th>worst area</th>\n",
       "      <th>worst smoothness</th>\n",
       "      <th>worst compactness</th>\n",
       "      <th>worst concavity</th>\n",
       "      <th>worst concave points</th>\n",
       "      <th>worst symmetry</th>\n",
       "      <th>worst fractal dimension</th>\n",
       "    </tr>\n",
       "  </thead>\n",
       "  <tbody>\n",
       "    <tr>\n",
       "      <th>0</th>\n",
       "      <td>17.99</td>\n",
       "      <td>10.38</td>\n",
       "      <td>122.80</td>\n",
       "      <td>1001.0</td>\n",
       "      <td>0.11840</td>\n",
       "      <td>0.27760</td>\n",
       "      <td>0.3001</td>\n",
       "      <td>0.14710</td>\n",
       "      <td>0.2419</td>\n",
       "      <td>0.07871</td>\n",
       "      <td>...</td>\n",
       "      <td>25.38</td>\n",
       "      <td>17.33</td>\n",
       "      <td>184.60</td>\n",
       "      <td>2019.0</td>\n",
       "      <td>0.1622</td>\n",
       "      <td>0.6656</td>\n",
       "      <td>0.7119</td>\n",
       "      <td>0.2654</td>\n",
       "      <td>0.4601</td>\n",
       "      <td>0.11890</td>\n",
       "    </tr>\n",
       "    <tr>\n",
       "      <th>1</th>\n",
       "      <td>20.57</td>\n",
       "      <td>17.77</td>\n",
       "      <td>132.90</td>\n",
       "      <td>1326.0</td>\n",
       "      <td>0.08474</td>\n",
       "      <td>0.07864</td>\n",
       "      <td>0.0869</td>\n",
       "      <td>0.07017</td>\n",
       "      <td>0.1812</td>\n",
       "      <td>0.05667</td>\n",
       "      <td>...</td>\n",
       "      <td>24.99</td>\n",
       "      <td>23.41</td>\n",
       "      <td>158.80</td>\n",
       "      <td>1956.0</td>\n",
       "      <td>0.1238</td>\n",
       "      <td>0.1866</td>\n",
       "      <td>0.2416</td>\n",
       "      <td>0.1860</td>\n",
       "      <td>0.2750</td>\n",
       "      <td>0.08902</td>\n",
       "    </tr>\n",
       "    <tr>\n",
       "      <th>2</th>\n",
       "      <td>19.69</td>\n",
       "      <td>21.25</td>\n",
       "      <td>130.00</td>\n",
       "      <td>1203.0</td>\n",
       "      <td>0.10960</td>\n",
       "      <td>0.15990</td>\n",
       "      <td>0.1974</td>\n",
       "      <td>0.12790</td>\n",
       "      <td>0.2069</td>\n",
       "      <td>0.05999</td>\n",
       "      <td>...</td>\n",
       "      <td>23.57</td>\n",
       "      <td>25.53</td>\n",
       "      <td>152.50</td>\n",
       "      <td>1709.0</td>\n",
       "      <td>0.1444</td>\n",
       "      <td>0.4245</td>\n",
       "      <td>0.4504</td>\n",
       "      <td>0.2430</td>\n",
       "      <td>0.3613</td>\n",
       "      <td>0.08758</td>\n",
       "    </tr>\n",
       "    <tr>\n",
       "      <th>3</th>\n",
       "      <td>11.42</td>\n",
       "      <td>20.38</td>\n",
       "      <td>77.58</td>\n",
       "      <td>386.1</td>\n",
       "      <td>0.14250</td>\n",
       "      <td>0.28390</td>\n",
       "      <td>0.2414</td>\n",
       "      <td>0.10520</td>\n",
       "      <td>0.2597</td>\n",
       "      <td>0.09744</td>\n",
       "      <td>...</td>\n",
       "      <td>14.91</td>\n",
       "      <td>26.50</td>\n",
       "      <td>98.87</td>\n",
       "      <td>567.7</td>\n",
       "      <td>0.2098</td>\n",
       "      <td>0.8663</td>\n",
       "      <td>0.6869</td>\n",
       "      <td>0.2575</td>\n",
       "      <td>0.6638</td>\n",
       "      <td>0.17300</td>\n",
       "    </tr>\n",
       "    <tr>\n",
       "      <th>4</th>\n",
       "      <td>20.29</td>\n",
       "      <td>14.34</td>\n",
       "      <td>135.10</td>\n",
       "      <td>1297.0</td>\n",
       "      <td>0.10030</td>\n",
       "      <td>0.13280</td>\n",
       "      <td>0.1980</td>\n",
       "      <td>0.10430</td>\n",
       "      <td>0.1809</td>\n",
       "      <td>0.05883</td>\n",
       "      <td>...</td>\n",
       "      <td>22.54</td>\n",
       "      <td>16.67</td>\n",
       "      <td>152.20</td>\n",
       "      <td>1575.0</td>\n",
       "      <td>0.1374</td>\n",
       "      <td>0.2050</td>\n",
       "      <td>0.4000</td>\n",
       "      <td>0.1625</td>\n",
       "      <td>0.2364</td>\n",
       "      <td>0.07678</td>\n",
       "    </tr>\n",
       "  </tbody>\n",
       "</table>\n",
       "<p>5 rows × 30 columns</p>\n",
       "</div>"
      ],
      "text/plain": [
       "   mean radius  mean texture  mean perimeter  mean area  mean smoothness  \\\n",
       "0        17.99         10.38          122.80     1001.0          0.11840   \n",
       "1        20.57         17.77          132.90     1326.0          0.08474   \n",
       "2        19.69         21.25          130.00     1203.0          0.10960   \n",
       "3        11.42         20.38           77.58      386.1          0.14250   \n",
       "4        20.29         14.34          135.10     1297.0          0.10030   \n",
       "\n",
       "   mean compactness  mean concavity  mean concave points  mean symmetry  \\\n",
       "0           0.27760          0.3001              0.14710         0.2419   \n",
       "1           0.07864          0.0869              0.07017         0.1812   \n",
       "2           0.15990          0.1974              0.12790         0.2069   \n",
       "3           0.28390          0.2414              0.10520         0.2597   \n",
       "4           0.13280          0.1980              0.10430         0.1809   \n",
       "\n",
       "   mean fractal dimension  ...  worst radius  worst texture  worst perimeter  \\\n",
       "0                 0.07871  ...         25.38          17.33           184.60   \n",
       "1                 0.05667  ...         24.99          23.41           158.80   \n",
       "2                 0.05999  ...         23.57          25.53           152.50   \n",
       "3                 0.09744  ...         14.91          26.50            98.87   \n",
       "4                 0.05883  ...         22.54          16.67           152.20   \n",
       "\n",
       "   worst area  worst smoothness  worst compactness  worst concavity  \\\n",
       "0      2019.0            0.1622             0.6656           0.7119   \n",
       "1      1956.0            0.1238             0.1866           0.2416   \n",
       "2      1709.0            0.1444             0.4245           0.4504   \n",
       "3       567.7            0.2098             0.8663           0.6869   \n",
       "4      1575.0            0.1374             0.2050           0.4000   \n",
       "\n",
       "   worst concave points  worst symmetry  worst fractal dimension  \n",
       "0                0.2654          0.4601                  0.11890  \n",
       "1                0.1860          0.2750                  0.08902  \n",
       "2                0.2430          0.3613                  0.08758  \n",
       "3                0.2575          0.6638                  0.17300  \n",
       "4                0.1625          0.2364                  0.07678  \n",
       "\n",
       "[5 rows x 30 columns]"
      ]
     },
     "execution_count": 72,
     "metadata": {},
     "output_type": "execute_result"
    }
   ],
   "source": [
    "# Supervised Learning Class\n",
    "\n",
    "from sklearn.datasets import load_breast_cancer\n",
    "import pandas as pd\n",
    "\n",
    "cancer = load_breast_cancer()\n",
    "print(\"cancer.keys(): \\n{}\".format(cancer.keys()))\n",
    "print(cancer['target_names'])\n",
    "\n",
    "data = pd.DataFrame(cancer['data'], columns = cancer['feature_names'])\n",
    "target = pd.DataFrame(cancer['target'], columns = ['target'])\n",
    "data.head()"
   ]
  },
  {
   "cell_type": "markdown",
   "metadata": {},
   "source": [
    "## Hyperparameter and choices:"
   ]
  },
  {
   "cell_type": "code",
   "execution_count": 73,
   "metadata": {},
   "outputs": [],
   "source": [
    "# Feature Selection?\n",
    "# Non-transformed vs Standardization?\n",
    "# Tune the parameters of the models"
   ]
  },
  {
   "cell_type": "markdown",
   "metadata": {},
   "source": [
    "## Split in Train and Test"
   ]
  },
  {
   "cell_type": "code",
   "execution_count": 74,
   "metadata": {},
   "outputs": [],
   "source": [
    "# Train test split\n",
    "from sklearn.model_selection import train_test_split\n",
    "X_train, X_test, y_train, y_test = train_test_split(cancer['data'], cancer['target'], random_state=0)"
   ]
  },
  {
   "cell_type": "markdown",
   "metadata": {},
   "source": [
    "## Feature Selection"
   ]
  },
  {
   "cell_type": "code",
   "execution_count": 75,
   "metadata": {},
   "outputs": [
    {
     "data": {
      "text/plain": [
       "['mean texture',\n",
       " 'mean smoothness',\n",
       " 'mean symmetry',\n",
       " 'mean fractal dimension',\n",
       " 'texture error',\n",
       " 'smoothness error',\n",
       " 'compactness error',\n",
       " 'concavity error',\n",
       " 'concave points error',\n",
       " 'symmetry error',\n",
       " 'fractal dimension error',\n",
       " 'worst texture',\n",
       " 'worst smoothness',\n",
       " 'worst symmetry',\n",
       " 'worst fractal dimension']"
      ]
     },
     "execution_count": 75,
     "metadata": {},
     "output_type": "execute_result"
    }
   ],
   "source": [
    "# Feature Selection\n",
    "import seaborn as sns\n",
    "#display(pd.DataFrame(X_train, columns = data.columns).corr())\n",
    "\n",
    "features = pd.DataFrame(X_train, columns = data.columns)\n",
    "target = pd.Series(y_train)\n",
    "corr_dict = {}\n",
    "cols_to_remove = []\n",
    "\n",
    "for col in list(features.columns):\n",
    "  corr_dict[col] = abs(features[col].corr(target))\n",
    "  if corr_dict[col] < 0.5:\n",
    "    cols_to_remove.append(col)\n",
    "\n",
    "#corr_dict\n",
    "cols_to_remove"
   ]
  },
  {
   "cell_type": "code",
   "execution_count": 76,
   "metadata": {},
   "outputs": [],
   "source": [
    "# Create \"Feature Selected sets\"\n",
    "X_train, X_test, y_train, y_test = train_test_split(cancer['data'], \n",
    "                                                    cancer['target'], \n",
    "                                                    random_state=0)\n",
    "\n",
    "c_data = pd.DataFrame(cancer['data'], columns = cancer['feature_names'])\n",
    "c_data = c_data.drop(cols_to_remove, axis=1)\n",
    "\n",
    "X_train_featsel, X_test_featsel, y_train, y_test = train_test_split(c_data, \n",
    "                                                                    cancer['target'],\n",
    "                                                                    random_state=0)"
   ]
  },
  {
   "cell_type": "markdown",
   "metadata": {},
   "source": [
    "## Standardization"
   ]
  },
  {
   "cell_type": "code",
   "execution_count": 77,
   "metadata": {},
   "outputs": [],
   "source": [
    "# Standardiztion\n",
    "from sklearn.preprocessing import StandardScaler\n",
    "\n",
    "##### X_train #########\n",
    "# create standardization object\n",
    "scale = StandardScaler().fit(features) # \"features\" is just the training data\n",
    "\n",
    "X_train_standard = scale.transform(X_train)\n",
    "X_test_standard  = scale.transform(X_test)          \n",
    "\n",
    "X_train_standard = pd.DataFrame(X_train_standard, columns = features.columns)\n",
    "X_test_standard = pd.DataFrame(X_test_standard, columns = features.columns)\n",
    "\n",
    "##### X_train_featsel #########\n",
    "# create standardization object\n",
    "scale = StandardScaler().fit(features) # \"features\" is just the training data\n",
    "\n",
    "X_train_featsel_standard = scale.transform(X_train)\n",
    "X_test_featsel_standard = scale.transform(X_test)\n",
    "\n",
    "X_train_featsel_standard = pd.DataFrame(X_train_featsel_standard, columns = features.columns)\n",
    "X_test_featsel_standard = pd.DataFrame(X_test_featsel_standard, columns = features.columns)\n",
    "\n",
    "\n",
    "# Standardization\n",
    "from sklearn.preprocessing import StandardScaler\n",
    "\n",
    "##### X_train #########\n",
    "# create standardization object\n",
    "scale = StandardScaler().fit(features)\n",
    "\n",
    "X_train_standard = scale.transform(X_train)\n",
    "X_train_standard = pd.DataFrame(X_train_standard, columns = features.columns)\n",
    "\n",
    "X_test_standard  = scale.transform(X_test)\n",
    "X_test_standard = pd.DataFrame(X_test_standard, columns = features.columns)\n",
    "\n",
    "##### X_train_featsel #########\n",
    "# create standardization object\n",
    "features_featsel = pd.DataFrame(X_train_featsel, columns = c_data.columns)\n",
    "scale = StandardScaler().fit(features_featsel)\n",
    "\n",
    "X_train_featsel_standard = scale.transform(X_train_featsel)\n",
    "X_train_featsel_standard = pd.DataFrame(X_train_featsel_standard, columns = c_data.columns)\n",
    "\n",
    "X_test_featsel_standard = scale.transform(X_test_featsel)\n",
    "X_test_featsel_standard = pd.DataFrame(X_test_featsel_standard, columns = c_data.columns)"
   ]
  },
  {
   "cell_type": "markdown",
   "metadata": {},
   "source": [
    "## Model Selection"
   ]
  },
  {
   "cell_type": "code",
   "execution_count": 83,
   "metadata": {},
   "outputs": [
    {
     "name": "stdout",
     "output_type": "stream",
     "text": [
      "normal\n",
      "featsel\n",
      "standard\n",
      "featsel_standard\n",
      "0.9790143964562569\n",
      "0.8593576965669989\n",
      "\n",
      "\n"
     ]
    },
    {
     "data": {
      "text/plain": [
       "[['normal', 'KNN', '1', 0.9179955703211518],\n",
       " ['normal', 'KNN', '3', 0.9180509413067552],\n",
       " ['normal', 'KNN', '5', 0.92718715393134],\n",
       " ['normal', 'KNN', '7', 0.9272978959025471],\n",
       " ['normal', 'KNN', '9', 0.9272425249169436],\n",
       " ['normal', 'SVM', '0.001', 0.9109634551495016],\n",
       " ['normal', 'SVM', '0.01', 0.920265780730897],\n",
       " ['normal', 'SVM', '0.1', 0.906312292358804],\n",
       " ['normal', 'SVM', '1', 0.8689368770764121],\n",
       " ['normal', 'SVM', '10', 0.9131229235880399],\n",
       " ['featsel', 'KNN', '1', 0.9084717607973423],\n",
       " ['featsel', 'KNN', '3', 0.9109634551495016],\n",
       " ['featsel', 'KNN', '5', 0.9224806201550388],\n",
       " ['featsel', 'KNN', '7', 0.929623477297896],\n",
       " ['featsel', 'KNN', '9', 0.9272425249169436],\n",
       " ['featsel', 'SVM', '0.001', 0.9108527131782946],\n",
       " ['featsel', 'SVM', '0.01', 0.887264673311185],\n",
       " ['featsel', 'SVM', '0.1', 0.8593576965669989],\n",
       " ['featsel', 'SVM', '1', 0.910797342192691],\n",
       " ['featsel', 'SVM', '10', 0.8726467331118494],\n",
       " ['standard', 'KNN', '1', nan],\n",
       " ['standard', 'KNN', '3', nan],\n",
       " ['standard', 'KNN', '5', nan],\n",
       " ['standard', 'KNN', '7', nan],\n",
       " ['standard', 'KNN', '9', nan],\n",
       " ['standard', 'SVM', '0.001', 0.9719269102990034],\n",
       " ['standard', 'SVM', '0.01', 0.9766334440753045],\n",
       " ['standard', 'SVM', '0.1', 0.9790143964562569],\n",
       " ['standard', 'SVM', '1', 0.9673864894795127],\n",
       " ['standard', 'SVM', '10', 0.9626799557032115],\n",
       " ['featsel_standard', 'KNN', '1', 0.9178848283499447],\n",
       " ['featsel_standard', 'KNN', '3', 0.9319490586932447],\n",
       " ['featsel_standard', 'KNN', '5', 0.9413621262458471],\n",
       " ['featsel_standard', 'KNN', '7', 0.9391472868217055],\n",
       " ['featsel_standard', 'KNN', '9', 0.9344407530454042],\n",
       " ['featsel_standard', 'SVM', '0.001', 0.9344407530454042],\n",
       " ['featsel_standard', 'SVM', '0.01', 0.9344407530454042],\n",
       " ['featsel_standard', 'SVM', '0.1', 0.9483388704318937],\n",
       " ['featsel_standard', 'SVM', '1', 0.953156146179402],\n",
       " ['featsel_standard', 'SVM', '10', 0.9484496124031008]]"
      ]
     },
     "metadata": {},
     "output_type": "display_data"
    },
    {
     "name": "stdout",
     "output_type": "stream",
     "text": [
      "\n",
      "\n",
      "the best model is:  ['standard', 'SVM', '0.1', 0.9790143964562569]\n"
     ]
    }
   ],
   "source": [
    "# Model Selection\n",
    "from sklearn.neighbors import KNeighborsClassifier\n",
    "from sklearn.svm import LinearSVC\n",
    "from sklearn.model_selection import cross_validate\n",
    "\n",
    "import warnings\n",
    "warnings.filterwarnings('ignore')\n",
    "\n",
    "def model_picker(model_name, parameter):\n",
    "  if model_name == 'KNN':\n",
    "    return KNeighborsClassifier(n_neighbors = parameter)\n",
    "  if model_name == 'SVM':\n",
    "    return LinearSVC(C = parameter)\n",
    "  else:\n",
    "    raise ValueError(\"I dont know this model\")\n",
    "\n",
    "model_selection = []\n",
    "cv_acc_list = []\n",
    "\n",
    "train_data_dict = {'normal':X_train, \n",
    "              'featsel':X_train_featsel,\n",
    "              'standard': X_train_standard,\n",
    "              'featsel_standard': X_train_featsel_standard}\n",
    "\n",
    "model_list = ['KNN', 'SVM']\n",
    "model_para = {'KNN':[1,3,5,7,9], 'SVM':[0.001, 0.01, 0.1, 1, 10]}\n",
    "\n",
    "for train_data_type in ['normal', 'featsel', 'standard', 'featsel_standard']:\n",
    "  train_data = train_data_dict[train_data_type]\n",
    "  print(train_data_type)\n",
    "  for model_name in model_list:\n",
    "    for p in model_para[model_name]:\n",
    "      #print(p)\n",
    "      model = model_picker(model_name, p) \n",
    "      model.fit(train_data, y_train)\n",
    "\n",
    "      cv_acc = cross_validate(model,train_data, y_train, cv = 10)['test_score'].mean()\n",
    "      #print(train_data_type, model_name, p, cv_acc)\n",
    "      model_selection.append([train_data_type, model_name, str(p), cv_acc])\n",
    "      cv_acc_list.append(cv_acc)\n",
    "\n",
    "print(max(cv_acc_list))\n",
    "print(min(cv_acc_list))\n",
    "\n",
    "print('\\n')\n",
    "display(model_selection)\n",
    "print('\\n')\n",
    "for best in model_selection:\n",
    "  #print(best)\n",
    "  if best[3] == max(cv_acc_list):\n",
    "    print('the best model is: ', best)"
   ]
  },
  {
   "cell_type": "code",
   "execution_count": 79,
   "metadata": {},
   "outputs": [
    {
     "data": {
      "text/plain": [
       "0.972027972027972"
      ]
     },
     "execution_count": 79,
     "metadata": {},
     "output_type": "execute_result"
    }
   ],
   "source": [
    "## Test your model\n",
    "model = model_picker('SVM', 0.01)\n",
    "model.fit(X_train_standard, y_train)\n",
    "model.score(X_test_standard, y_test)"
   ]
  },
  {
   "cell_type": "markdown",
   "metadata": {},
   "source": [
    "## How do I \"share\"/use what I just did?"
   ]
  },
  {
   "cell_type": "code",
   "execution_count": 80,
   "metadata": {},
   "outputs": [
    {
     "name": "stdout",
     "output_type": "stream",
     "text": [
      "cancer.keys(): \n",
      "dict_keys(['data', 'target', 'frame', 'target_names', 'DESCR', 'feature_names', 'filename', 'data_module'])\n",
      "['malignant' 'benign']\n"
     ]
    }
   ],
   "source": [
    "# Supervised Learning Class\n",
    "\n",
    "from sklearn.datasets import load_breast_cancer\n",
    "import pandas as pd\n",
    "\n",
    "cancer = load_breast_cancer()\n",
    "print(\"cancer.keys(): \\n{}\".format(cancer.keys()))\n",
    "print(cancer['target_names'])\n",
    "\n",
    "data = pd.DataFrame(cancer['data'], columns = cancer['feature_names'])\n",
    "target = pd.DataFrame(cancer['target'], columns = ['target'])\n",
    "data.head()\n",
    "\n",
    "cols_to_remove = ['mean texture', \n",
    "                'mean smoothness', \n",
    "                'mean symmetry', \n",
    "                'mean fractal dimension', \n",
    "                'texture error', \n",
    "                'smoothness error', \n",
    "                'compactness error', \n",
    "                'concavity error', \n",
    "                'concave points error', \n",
    "                'symmetry error', \n",
    "                'fractal dimension error', \n",
    "                'worst texture', \n",
    "                'worst smoothness', \n",
    "                'worst symmetry', \n",
    "                'worst fractal dimension']\n",
    "\n",
    "def model_picker(model_name, parameter):\n",
    "  if model_name == 'KNN':\n",
    "    return KNeighborsClassifier(n_neighbors = parameter)\n",
    "  if model_name == 'SVM':\n",
    "    return LinearSVC(C = parameter)\n",
    "  else:\n",
    "    raise ValueError(\"I dont know this model\")"
   ]
  },
  {
   "cell_type": "code",
   "execution_count": 81,
   "metadata": {},
   "outputs": [
    {
     "name": "stdout",
     "output_type": "stream",
     "text": [
      "The columns to remove are ['mean texture', 'mean smoothness', 'mean symmetry', 'mean fractal dimension', 'texture error', 'smoothness error', 'compactness error', 'concavity error', 'concave points error', 'symmetry error', 'fractal dimension error', 'worst texture', 'worst smoothness', 'worst symmetry', 'worst fractal dimension']\n",
      "The Standardizer we should use is: StandardScaler()\n",
      "The model we should use is:  LinearSVC(C=0.01)\n"
     ]
    }
   ],
   "source": [
    "# We need to:\n",
    "features = pd.DataFrame(cancer['data'], columns = data.columns)\n",
    "target = pd.Series(cancer['target'])\n",
    "\n",
    "# Save the preprocessing steps (feature selection and standardization):\n",
    "print(f'The columns to remove are {cols_to_remove}')\n",
    "\n",
    "# Drop the un-selected columns\n",
    "features = features.drop(cols_to_remove, axis=1)\n",
    "\n",
    "# Rebuild the Scaler with all the data\n",
    "scale = StandardScaler().fit(features)\n",
    "print(f'The Standardizer we should use is: {scale}')\n",
    "\n",
    "# Save the model (save the trained model with adjusted internal parameters in a file)\n",
    "#model = model_picker('SVM', 0.01)\n",
    "model = LinearSVC(C = 0.01)\n",
    "\n",
    "features = pd.DataFrame(scale.transform(features) , columns = features.columns) # Normalize the features before training the model\n",
    "model.fit(features, target)\n",
    "print('The model we should use is: ', model)\n",
    "# When using this we need to load the aforementioned elements\n",
    "\n",
    "######################################\n",
    "## SAVE THIS FUNCTION IN A .py FILE  or do this with another student ##\n",
    "import pandas as pd\n",
    "import pickle\n",
    "from sklearn.preprocessing import StandardScaler\n",
    "\n",
    "def pre_processing(features):\n",
    "\n",
    "  # Feature Selection\n",
    "  cols_to_remove = ['mean texture', \n",
    "                  'mean smoothness', \n",
    "                  'mean symmetry', \n",
    "                  'mean fractal dimension', \n",
    "                  'texture error', \n",
    "                  'smoothness error', \n",
    "                  'compactness error', \n",
    "                  'concavity error', \n",
    "                  'concave points error', \n",
    "                  'symmetry error', \n",
    "                  'fractal dimension error', \n",
    "                  'worst texture', \n",
    "                  'worst smoothness', \n",
    "                  'worst symmetry', \n",
    "                  'worst fractal dimension']\n",
    "  \n",
    "  features = features.drop(cols_to_remove, axis=1)\n",
    "\n",
    "  # Feature Scaling\n",
    "  scale = pickle.load(open('Scaler_for_cancer.sav', 'rb'))\n",
    "  return pd.DataFrame(scale.transform(features) , columns = features.columns)\n",
    "\n",
    "######################################"
   ]
  },
  {
   "cell_type": "code",
   "execution_count": 82,
   "metadata": {},
   "outputs": [],
   "source": [
    "import pickle\n",
    "\n",
    "# save the Standardizer to disk\n",
    "filename = 'Scaler_for_cancer.sav'\n",
    "pickle.dump(scale, open(filename, 'wb'))\n",
    "\n",
    "# save the model to disk\n",
    "filename = 'Model_for_cancer.sav'\n",
    "pickle.dump(model, open(filename, 'wb'))"
   ]
  },
  {
   "cell_type": "markdown",
   "metadata": {},
   "source": [
    "And with this, you have all the elements you need to run this again: the model, the scaler and the preprocessing code"
   ]
  }
 ],
 "metadata": {
  "kernelspec": {
   "display_name": "venv_ironhack",
   "language": "python",
   "name": "python3"
  },
  "language_info": {
   "codemirror_mode": {
    "name": "ipython",
    "version": 3
   },
   "file_extension": ".py",
   "mimetype": "text/x-python",
   "name": "python",
   "nbconvert_exporter": "python",
   "pygments_lexer": "ipython3",
   "version": "3.12.6"
  },
  "latex_envs": {
   "LaTeX_envs_menu_present": true,
   "autocomplete": true,
   "bibliofile": "biblio.bib",
   "cite_by": "apalike",
   "current_citInitial": 1,
   "eqLabelWithNumbers": true,
   "eqNumInitial": 1,
   "hotkeys": {
    "equation": "Ctrl-E",
    "itemize": "Ctrl-I"
   },
   "labels_anchors": false,
   "latex_user_defs": false,
   "report_style_numbering": false,
   "user_envs_cfg": false
  }
 },
 "nbformat": 4,
 "nbformat_minor": 1
}
